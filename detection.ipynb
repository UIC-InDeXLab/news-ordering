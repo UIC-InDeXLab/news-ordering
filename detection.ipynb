{
 "cells": [
  {
   "cell_type": "markdown",
   "id": "c045486e-738a-4544-b672-7747ebd2679b",
   "metadata": {},
   "source": [
    "# setup"
   ]
  },
  {
   "cell_type": "code",
   "execution_count": 132,
   "id": "18f08b15-023c-4226-a606-85e3d4b484fb",
   "metadata": {},
   "outputs": [],
   "source": [
    "import networkx as nx\n",
    "\n",
    "import os\n",
    "\n",
    "import math\n",
    "import statistics\n",
    "import numpy as np\n",
    "from scipy import stats as st\n",
    "\n",
    "from time import perf_counter\n",
    "from tqdm import trange, tqdm\n",
    "\n",
    "import matplotlib.pyplot as plt\n",
    "from cycler import cycler"
   ]
  },
  {
   "cell_type": "code",
   "execution_count": 133,
   "id": "d9e66214-e6ee-4770-bd3c-4f48c73fdb2a",
   "metadata": {},
   "outputs": [],
   "source": [
    "# matplotlib default prop_cycle\n",
    "cycler1 = cycler(color=[\n",
    "    '#1f77b4', \n",
    "    '#ff7f0e'\n",
    "])\n",
    "\n",
    "# cycler2 = cycler(marker=['1', '2', '3', '4', '+', 'x', 4, 5, 6, 7])\n",
    "cycler2 = cycler(linestyle=[\n",
    "    (0,(2,2)),\n",
    "    (2,(2,2))\n",
    "])\n",
    "\n",
    "default_cycler = cycler1 + cycler2\n",
    "plt.rc('axes', prop_cycle=default_cycler)"
   ]
  },
  {
   "cell_type": "code",
   "execution_count": 134,
   "id": "32fcb8d8-822c-4467-ba22-084c133d2271",
   "metadata": {},
   "outputs": [],
   "source": [
    "rng = np.random.default_rng()"
   ]
  },
  {
   "cell_type": "code",
   "execution_count": 135,
   "id": "9ec8bcdc-56a8-4cee-af01-cb2f43017042",
   "metadata": {},
   "outputs": [],
   "source": [
    "avg = statistics.fmean\n",
    "agg_name = {\n",
    "    avg: \"avg\",\n",
    "    min: \"min\"\n",
    "}\n",
    "\n",
    "def neutrality(G, path, agg):\n",
    "    Ns = []\n",
    "    for u,v in zip(path, path[1:]):\n",
    "        Ns.append(G.edges[u,v]['weight'])\n",
    "    return agg(Ns)"
   ]
  },
  {
   "cell_type": "code",
   "execution_count": 136,
   "id": "98b57b42-7343-4779-b42b-4ef0a2404d30",
   "metadata": {},
   "outputs": [],
   "source": [
    "def saw_yang_mo(s_neut, ybar, stdev, r):\n",
    "    diff = abs(s_neut - ybar)\n",
    "    \n",
    "    if diff == 0:\n",
    "        return 1\n",
    "    elif stdev == 0:\n",
    "        return 1/r\n",
    "    else:\n",
    "        lam = (diff / math.sqrt((r+1)/r)) / stdev\n",
    "        return min(1, 1/lam**2 + 1/r)"
   ]
  },
  {
   "cell_type": "markdown",
   "id": "9e90598d-441c-41b1-a2c3-420bc482f6fc",
   "metadata": {},
   "source": [
    "### read data"
   ]
  },
  {
   "cell_type": "code",
   "execution_count": 137,
   "id": "d8dbfe62-88ed-4668-acc9-99c00f976fcc",
   "metadata": {},
   "outputs": [
    {
     "name": "stdout",
     "output_type": "stream",
     "text": [
      "reading a.txt...\n",
      "reading t.txt...\n"
     ]
    }
   ],
   "source": [
    "Gs = {}\n",
    "with os.scandir(\"data/Jul/graphs\") as directory:\n",
    "    for entry in directory:\n",
    "        if entry.is_file():\n",
    "            print(f\"reading {entry.name}...\")\n",
    "            source_id = entry.name[0]\n",
    "            Gs[source_id] = nx.read_weighted_edgelist(entry.path, nodetype=int)"
   ]
  },
  {
   "cell_type": "markdown",
   "id": "8b57cec7-3650-4a57-9988-049cc4ceb339",
   "metadata": {},
   "source": [
    "### define constants"
   ]
  },
  {
   "cell_type": "code",
   "execution_count": 138,
   "id": "20b2f767-6a37-4934-ad01-deacaed68c9f",
   "metadata": {},
   "outputs": [],
   "source": [
    "n = len(next(iter(Gs.values())).nodes)\n",
    "s = tuple(range(n))\n",
    "# print(f\"number of possible orderings: {math.factorial(n)}\")\n",
    "\n",
    "timeit_iterations = 5  # 5 is the standard in the timeit module\n",
    "\n",
    "r_domain = range(100, 2000, 100)\n",
    "r_fixed = 50000"
   ]
  },
  {
   "cell_type": "markdown",
   "id": "de507a4e-ac29-4e4e-bee6-eb89fd73fe69",
   "metadata": {},
   "source": [
    "# experiments"
   ]
  },
  {
   "cell_type": "markdown",
   "id": "91eb6e1d-fdc6-43e4-9b79-076e8d66f001",
   "metadata": {},
   "source": [
    "### cherry-picking"
   ]
  },
  {
   "cell_type": "code",
   "execution_count": 139,
   "id": "da57b884-7ef1-4751-97dc-6620a6f513b3",
   "metadata": {},
   "outputs": [
    {
     "name": "stdout",
     "output_type": "stream",
     "text": [
      "SOURCE a\n",
      "Neut of given ordering under avg aggregation =             0.7\n",
      "average Neut of random ordering under avg aggregation =    0.7426983333333332\n",
      "standard deviation of Neut under avg aggregation =         0.07005061999177216\n",
      "Neut of given ordering under min aggregation =             0.0\n",
      "average Neut of random ordering under min aggregation =    0.2823266666666666\n",
      "standard deviation of Neut under min aggregation =         0.19248709879740472\n",
      "\n",
      "SOURCE t\n",
      "Neut of given ordering under avg aggregation =             0.5333333333333333\n",
      "average Neut of random ordering under avg aggregation =    0.6178003333333333\n",
      "standard deviation of Neut under avg aggregation =         0.08277930272271677\n",
      "Neut of given ordering under min aggregation =             0.0\n",
      "average Neut of random ordering under min aggregation =    0.20143666666666665\n",
      "standard deviation of Neut under min aggregation =         0.1559055266200163\n",
      "\n"
     ]
    }
   ],
   "source": [
    "source_results_final = {}\n",
    "for source, G in Gs.items():\n",
    "    print(f\"SOURCE {source}\")\n",
    "    probs = []\n",
    "    for agg in (avg, min):\n",
    "        neuts = []\n",
    "        for i in range(r_fixed):\n",
    "            p = rng.permutation(n)\n",
    "            neuts.append(neutrality(G, p, agg))\n",
    "        s_neut = neutrality(G, s, agg)\n",
    "        print(f\"Neut of given ordering under {agg_name[agg]} aggregation =             {s_neut}\")\n",
    "        ybar = statistics.fmean(neuts)\n",
    "        print(f\"average Neut of random ordering under {agg_name[agg]} aggregation =    {ybar}\")\n",
    "        stdev = statistics.stdev(neuts, ybar)\n",
    "        print(f\"standard deviation of Neut under {agg_name[agg]} aggregation =         {stdev}\")\n",
    "        probs.append(saw_yang_mo(s_neut, ybar, stdev, r_fixed))\n",
    "    source_results_final[source] = probs\n",
    "    print()"
   ]
  },
  {
   "cell_type": "code",
   "execution_count": 140,
   "id": "6a4fedee-aa51-4973-a83d-f0687f05410d",
   "metadata": {
    "tags": []
   },
   "outputs": [
    {
     "name": "stdout",
     "output_type": "stream",
     "text": [
      "SOURCE a\n",
      "Under avg aggregation, the probability that a random ordering would have neutrality as far from the mean as that of s is bounded above by 100%.\n",
      "Under min aggregation, the probability that a random ordering would have neutrality as far from the mean as that of s is bounded above by 46.49%.\n",
      "\n",
      "SOURCE t\n",
      "Under avg aggregation, the probability that a random ordering would have neutrality as far from the mean as that of s is bounded above by 96.05%.\n",
      "Under min aggregation, the probability that a random ordering would have neutrality as far from the mean as that of s is bounded above by 59.91%.\n",
      "\n"
     ]
    }
   ],
   "source": [
    "for source, results in source_results_final.items():\n",
    "    print(f\"SOURCE {source}\")\n",
    "    for i, agg in enumerate((\"avg\", \"min\")):\n",
    "        print(f\"Under {agg} aggregation, the probability that a random ordering \\\n",
    "would have neutrality as far from the mean as that of s is bounded above by {round(results[i]*100, 2)}%.\")\n",
    "    print()"
   ]
  },
  {
   "cell_type": "markdown",
   "id": "b954505c-7d2a-4213-9c97-7c8aac568fb7",
   "metadata": {},
   "source": [
    "## plots"
   ]
  },
  {
   "cell_type": "code",
   "execution_count": 141,
   "id": "8ac9af51-cd5e-4f9a-af44-927b21553fe1",
   "metadata": {},
   "outputs": [
    {
     "name": "stderr",
     "output_type": "stream",
     "text": [
      "100%|███████████████████████████████████████████████████████████████| 19/19 [00:07<00:00,  2.60it/s]\n",
      "100%|███████████████████████████████████████████████████████████████| 19/19 [00:07<00:00,  2.68it/s]\n"
     ]
    }
   ],
   "source": [
    "source_results = {}\n",
    "for source, G in Gs.items():\n",
    "    probs = []\n",
    "    times = []\n",
    "    for r in tqdm(r_domain):\n",
    "        inner_probs = []\n",
    "        inner_times = []\n",
    "        for agg in (avg, min):\n",
    "            time_min = math.inf\n",
    "            for _ in range(timeit_iterations):\n",
    "                start = perf_counter()\n",
    "                neuts = []\n",
    "                for i in range(r):\n",
    "                    p = rng.permutation(n)\n",
    "                    neuts.append(neutrality(G, p, agg))\n",
    "                s_neut = neutrality(G, s, agg)\n",
    "                ybar = statistics.fmean(neuts)\n",
    "                stdev = statistics.stdev(neuts, ybar)\n",
    "\n",
    "                # upper bound on the probability of a random ordering having\n",
    "                # neutrality as from the mean as `s_neut`\n",
    "                prob = saw_yang_mo(s_neut, ybar, stdev, r)\n",
    "                \n",
    "                time_min = min(time_min, perf_counter() - start)\n",
    "            inner_probs.append(prob)\n",
    "            inner_times.append(time_min)\n",
    "        probs.append(inner_probs)\n",
    "        times.append(inner_times)\n",
    "    source_results[source] = (probs, times)"
   ]
  },
  {
   "cell_type": "code",
   "execution_count": 142,
   "id": "27178637-dd95-4838-9584-d03f9ed07149",
   "metadata": {
    "jupyter": {
     "source_hidden": true
    },
    "tags": []
   },
   "outputs": [],
   "source": [
    "# fig, axes = plt.subplots(3, 2, figsize=(6,5), sharex=True, sharey='col', constrained_layout=True)\n",
    "# fig.suptitle('Cherry-Picking Detection')\n",
    "\n",
    "# for i, (source, (probs, times)) in enumerate(source_results.items()):\n",
    "#     lines = axes[i, 0].plot(r_domain, probs, label=[\"avg\", \"min\"])\n",
    "#     axes[i, 0].set_xlabel('r')\n",
    "#     axes[i, 0].set_ybound(-0.1, 1.1)\n",
    "\n",
    "#     axes[i, 1].plot(r_domain, times)\n",
    "#     axes[i, 1].set_xlabel('r')\n",
    "\n",
    "# axes[0, 0].set_ylabel('AP\\n\\n')\n",
    "# axes[1, 0].set_ylabel('CNN\\n\\nprobability')\n",
    "# axes[2, 0].set_ylabel('Fox\\n\\n')\n",
    "# axes[1, 1].set_ylabel('\\naverage time (s)')\n",
    "\n",
    "# fig.legend(handles=lines)\n",
    "\n",
    "# plt.savefig(\"plots/detection_plots.pdf\")"
   ]
  },
  {
   "cell_type": "code",
   "execution_count": 143,
   "id": "18203924-5f9e-4bf3-a026-f81019546cd7",
   "metadata": {},
   "outputs": [
    {
     "data": {
      "image/png": "[encoded data removed]",
      "text/plain": [
       "<Figure size 432x288 with 4 Axes>"
      ]
     },
     "metadata": {
      "needs_background": "light"
     },
     "output_type": "display_data"
    }
   ],
   "source": [
    "fig, axes = plt.subplots(2, 2, figsize=(6,4), sharex=True, sharey='col', constrained_layout=True)\n",
    "fig.suptitle('Cherry-Picking Detection')\n",
    "\n",
    "for i, (source, (probs, times)) in enumerate(source_results.items()):\n",
    "    lines = axes[i, 0].plot(r_domain, probs, label=[\"avg\", \"min\"])\n",
    "    axes[i, 0].set_xlabel('r')\n",
    "    axes[i, 0].set_ybound(-0.1, 1.1)\n",
    "\n",
    "    axes[i, 1].plot(r_domain, times)\n",
    "    axes[i, 1].set_xlabel('r')\n",
    "\n",
    "axes[0, 0].set_ylabel('American Thinker\\n\\n')\n",
    "axes[1, 0].set_ylabel('The Federalist\\n\\nprobability')\n",
    "axes[1, 1].set_ylabel('\\naverage time (s)')\n",
    "\n",
    "fig.legend(handles=lines)\n",
    "\n",
    "plt.savefig(\"plots/detection_plots.pdf\")"
   ]
  },
  {
   "cell_type": "code",
   "execution_count": null,
   "id": "3dd62452-3961-4daf-8b15-b0c70df79f4a",
   "metadata": {},
   "outputs": [],
   "source": []
  },
  {
   "cell_type": "code",
   "execution_count": null,
   "id": "f2420981-51ff-485d-b86b-3b3fce6ad88a",
   "metadata": {},
   "outputs": [],
   "source": []
  }
 ],
 "metadata": {
  "kernelspec": {
   "display_name": "Python [conda env:news-ordering]",
   "language": "python",
   "name": "conda-env-news-ordering-py"
  },
  "language_info": {
   "codemirror_mode": {
    "name": "ipython",
    "version": 3
   },
   "file_extension": ".py",
   "mimetype": "text/x-python",
   "name": "python",
   "nbconvert_exporter": "python",
   "pygments_lexer": "ipython3",
   "version": "3.10.2"
  }
 },
 "nbformat": 4,
 "nbformat_minor": 5
}
