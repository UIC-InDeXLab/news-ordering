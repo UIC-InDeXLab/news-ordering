{
 "cells": [
  {
   "cell_type": "markdown",
   "id": "f0fe081f-9c6b-48ca-a606-51a1aed5ca46",
   "metadata": {},
   "source": [
    "### Setup"
   ]
  },
  {
   "cell_type": "code",
   "execution_count": 1,
   "id": "fdc51667-0587-40e3-8569-a9c66110ef67",
   "metadata": {},
   "outputs": [],
   "source": [
    "import networkx as nx\n",
    "from networkx.algorithms import bipartite\n",
    "\n",
    "import itertools\n",
    "import random\n",
    "from math import ceil\n",
    "# import numpy as np\n",
    "\n",
    "from time import perf_counter\n",
    "# from tqdm.notebook import trange, tqdm\n",
    "from tqdm import trange, tqdm\n",
    "\n",
    "# import matplotlib as mpl\n",
    "import matplotlib.pyplot as plt"
   ]
  },
  {
   "cell_type": "markdown",
   "id": "5084976d-7ef7-48d3-88bb-4775e2285899",
   "metadata": {},
   "source": [
    "### Utility functions"
   ]
  },
  {
   "cell_type": "code",
   "execution_count": 2,
   "id": "cf675997-6604-4e62-8eed-283b8929f39d",
   "metadata": {
    "tags": []
   },
   "outputs": [],
   "source": [
    "def draw_edge_set(Gu, edges):\n",
    "    colors = []\n",
    "    for (u,v) in Gu.edges:\n",
    "        if (u,v) in edges or (v,u) in edges:\n",
    "            colors.append(\"red\")\n",
    "        else:\n",
    "            colors.append(\"black\")\n",
    "\n",
    "    nx.draw_networkx(Gu, edge_color=colors)"
   ]
  },
  {
   "cell_type": "code",
   "execution_count": 3,
   "id": "9f439b7f-c300-41a5-bcc5-cc94c6edc329",
   "metadata": {},
   "outputs": [],
   "source": [
    "def get_path_weight(G, path):\n",
    "    total_weight = 0\n",
    "    for u,v in zip(path, path[1:]):\n",
    "        total_weight += G.edges[u,v]['weight']\n",
    "    return total_weight"
   ]
  },
  {
   "cell_type": "code",
   "execution_count": 4,
   "id": "e4725e03-594a-4511-a887-5dd33b255902",
   "metadata": {},
   "outputs": [],
   "source": [
    "def contract(u, v, orientations):\n",
    "    if orientations == (0,0):\n",
    "        return tuple(reversed(u)) + v\n",
    "    elif orientations == (0,-1):\n",
    "        return tuple(reversed(u)) + tuple(reversed(v))\n",
    "    elif orientations == (-1,0):\n",
    "        return u + v\n",
    "    elif orientations == (-1,-1):\n",
    "        return u + tuple(reversed(v))\n",
    "    else:\n",
    "        raise ValueError(\"invalid orientations\")\n",
    "\n",
    "def orient(Gu, u, v):\n",
    "    oris_list = [(0,0), (0,-1), (-1,0), (-1,-1)]\n",
    "    u_ori, v_ori = max(oris_list, key = lambda oris: Gu.edges[u[oris[0]],v[oris[1]]]['weight'])\n",
    "    return (u_ori, v_ori), Gu.edges[u[u_ori],v[v_ori]]['weight']"
   ]
  },
  {
   "cell_type": "code",
   "execution_count": 5,
   "id": "eb8b3415-571a-470b-9159-7b8c024da71c",
   "metadata": {},
   "outputs": [],
   "source": [
    "def info(string, verbose):\n",
    "    if verbose:\n",
    "        print(f\"%%% {string} %%%\")"
   ]
  },
  {
   "cell_type": "markdown",
   "id": "cfc8bff9-d36a-481f-a3a8-f2fd879ccb9f",
   "metadata": {},
   "source": [
    "### Solvers"
   ]
  },
  {
   "cell_type": "code",
   "execution_count": 6,
   "id": "0765965c-1d31-4477-852c-a10e8549506e",
   "metadata": {},
   "outputs": [],
   "source": [
    "def via_brute_force(Gu, n, verbose=False):\n",
    "    path = None\n",
    "    w_max = 0\n",
    "    for p in itertools.permutations(range(n)):\n",
    "        w = get_path_weight(Gu, p)\n",
    "        if w > w_max:\n",
    "            path = p\n",
    "            w_max = w\n",
    "    return path"
   ]
  },
  {
   "cell_type": "code",
   "execution_count": 7,
   "id": "9c255b3e-99af-4560-934a-158bfe7933a0",
   "metadata": {},
   "outputs": [],
   "source": [
    "def via_matching(Gu, n, verbose=False):\n",
    "    matching = nx.max_weight_matching(Gu)\n",
    "\n",
    "    path = []\n",
    "    for u,v in matching:\n",
    "        path.append(u)\n",
    "        path.append(v)\n",
    "    if n % 2 == 1:\n",
    "        vertex_sum = n * (n-1) / 2\n",
    "        final_v = int(vertex_sum - sum(path))\n",
    "        path.append(final_v)\n",
    "    \n",
    "    return tuple(path)"
   ]
  },
  {
   "cell_type": "code",
   "execution_count": 8,
   "id": "c932e27c-15db-483e-853f-c08b66310610",
   "metadata": {},
   "outputs": [],
   "source": [
    "def via_iterated_matching(Gu, n, verbose=False):\n",
    "    Gk = nx.complete_graph([(i,) for i in range(n)])\n",
    "    for u in Gk.nodes:\n",
    "        Gk.nodes[u]['value'] = u[0]  # value is used to efficiently find final vertex when cardinality is odd\n",
    "    for u,v in Gk.edges:\n",
    "        Gk.edges[u,v]['orientations'] = (-1,0)\n",
    "        Gk.edges[u,v]['weight'] = Gu.edges[u[-1],v[0]]['weight']\n",
    "\n",
    "    num_nodes = n\n",
    "    while num_nodes > 1:\n",
    "        info(f\"num nodes: {num_nodes}\", verbose)\n",
    "        \n",
    "        Gk_old = Gk\n",
    "        Gk = nx.Graph()\n",
    "\n",
    "        matching = nx.max_weight_matching(Gk_old)\n",
    "\n",
    "        if num_nodes % 2 == 1:\n",
    "            value_sum = n * (n-1) / 2\n",
    "            for u,v in matching:\n",
    "                value_sum -= Gk_old.nodes[u]['value'] + Gk_old.nodes[v]['value']\n",
    "            final_value = int(value_sum)\n",
    "            for u in Gk_old.nodes:\n",
    "                if Gk_old.nodes[u]['value'] == final_value:\n",
    "                    fluke = False\n",
    "                    for x,y in matching:\n",
    "                        if u in (x,y):\n",
    "                            fluke = True\n",
    "                    if not fluke:\n",
    "                        Gk.add_node(u)\n",
    "                        Gk.nodes[u]['value'] = final_value\n",
    "\n",
    "        for u,v in matching:\n",
    "            node = contract(u, v, Gk_old.edges[u,v]['orientations'])\n",
    "            Gk.add_node(node)\n",
    "            Gk.nodes[node]['value'] = Gk_old.nodes[u]['value'] + Gk_old.nodes[v]['value']\n",
    "\n",
    "        for u in Gk.nodes:\n",
    "            for v in Gk.nodes:\n",
    "                if u != v:\n",
    "                    oris, w = orient(Gu, u, v)\n",
    "                    Gk.add_edge(u, v, orientations=oris, weight=w)\n",
    "\n",
    "        num_nodes = len(Gk.nodes)\n",
    "\n",
    "    for u in Gk.nodes:\n",
    "        assert Gk.nodes[u]['value'] == n * (n-1) / 2\n",
    "\n",
    "    return next(iter(Gk.nodes))"
   ]
  },
  {
   "cell_type": "markdown",
   "id": "78df624d-9cb4-4882-96d3-b499ce7eb5b6",
   "metadata": {},
   "source": [
    "WARNING: NetworkX uses an assignment problem solver other than the Hungarian method"
   ]
  },
  {
   "cell_type": "code",
   "execution_count": 9,
   "id": "ef6a0a7b-7b16-475f-9b41-297892a96fc0",
   "metadata": {
    "tags": []
   },
   "outputs": [],
   "source": [
    "def via_cycle_cover(Gu, n, verbose=False):\n",
    "    Gb = nx.Graph()\n",
    "    for i in range(2*n):\n",
    "        Gb.add_node(i)\n",
    "    for u,v in Gu.edges:\n",
    "        Gb.add_edge(u, v+n, weight=1-Gu.edges[u,v]['weight'])  # account for min weight NetworkX method\n",
    "        Gb.add_edge(v, u+n, weight=1-Gu.edges[u,v]['weight'])  # account for min weight NetworkX method\n",
    "\n",
    "    mb_dict = bipartite.minimum_weight_full_matching(Gb, top_nodes=list(Gb.nodes)[:n])\n",
    "    # draw_edge_set(Gb, list(mb_dict.items()))\n",
    "\n",
    "    m_dict = {}\n",
    "    for u,v in mb_dict.items():\n",
    "        if u < n:\n",
    "            x,y = u,v\n",
    "        else:\n",
    "            x,y = v,u\n",
    "        m_dict[x] = y-n\n",
    "    # draw_edge_set(Gu, list(m_dict.items()))\n",
    "\n",
    "\n",
    "    cycle_cover = []\n",
    "\n",
    "    done = set()\n",
    "    cycle = []\n",
    "    start = curr = 0\n",
    "\n",
    "    while True:\n",
    "        cycle.append(curr)\n",
    "        done.add(curr)\n",
    "        curr = m_dict[curr]\n",
    "        if curr == start:\n",
    "            cycle_cover.append(cycle)\n",
    "            cycle = []\n",
    "            flag = False\n",
    "            for i in range(n):\n",
    "                if i not in done:\n",
    "                    start = curr = i\n",
    "                    flag = True\n",
    "                    break\n",
    "            if not flag:\n",
    "                break\n",
    "\n",
    "    path_cover = []\n",
    "    for cycle in cycle_cover:\n",
    "        best_start = cycle[0]\n",
    "        best_start_idx = 0\n",
    "        min_weight = Gu.edges[cycle[-1],cycle[0]]['weight']\n",
    "        for i, (u,v) in enumerate(zip(cycle, cycle[1:])):\n",
    "            if Gu.edges[u,v]['weight'] < min_weight:\n",
    "                best_start = v\n",
    "                best_start_idx = i+1\n",
    "                min_weight = Gu.edges[u,v]['weight']\n",
    "        path = cycle[best_start_idx:] + cycle[:best_start_idx]\n",
    "        path_cover.append(path)\n",
    "\n",
    "    return tuple(itertools.chain(*path_cover))"
   ]
  },
  {
   "cell_type": "code",
   "execution_count": 10,
   "id": "87134501-4f30-4044-81b3-49a2df4e0d07",
   "metadata": {},
   "outputs": [],
   "source": [
    "def via_iterated_cycle_cover(Gu, n, verbose=False):\n",
    "    Gk = nx.complete_graph([(i,) for i in range(n)])\n",
    "    num_nodes = n  \n",
    "    \n",
    "    while num_nodes > 1:\n",
    "        info(f\"num nodes: {num_nodes}\", verbose)\n",
    "        \n",
    "        Gb = nx.Graph()\n",
    "        for u in Gk.nodes:\n",
    "            Gb.add_node(u)\n",
    "            Gb.add_node(tuple([i + n for i in u]))\n",
    "        for u,v in Gk.edges:\n",
    "            Gb.add_edge(u, tuple([i + n for i in v]), weight=1-Gu.edges[u[-1],v[0]]['weight'])  # account for min weight NetworkX method\n",
    "            Gb.add_edge(v, tuple([i + n for i in u]), weight=1-Gu.edges[u[-1],v[0]]['weight'])  # account for min weight NetworkX method\n",
    "        \n",
    "        mb_dict = bipartite.minimum_weight_full_matching(Gb, top_nodes=list(Gb.nodes)[::2])\n",
    "        # draw_edge_set(Gb, list(mb_dict.items()))\n",
    "\n",
    "        m_dict = {}\n",
    "        for u,v in mb_dict.items():\n",
    "            if u[0] < n:\n",
    "                x,y = u,v\n",
    "            else:\n",
    "                x,y = v,u\n",
    "            m_dict[x] = tuple([i - n for i in y])\n",
    "        # draw_edge_set(Gu, list(m_dict.items()))\n",
    "\n",
    "\n",
    "        cycle_cover = []\n",
    "\n",
    "        done = set()\n",
    "        cycle = []\n",
    "        start = curr = next(iter(m_dict))  # start with arbitrary node\n",
    "\n",
    "        while True:\n",
    "            cycle.append(curr)\n",
    "            done.add(curr)\n",
    "            curr = m_dict[curr]\n",
    "            if curr == start:\n",
    "                cycle_cover.append(cycle)\n",
    "                cycle = []\n",
    "                flag = False\n",
    "                for i in m_dict:\n",
    "                    if i not in done:\n",
    "                        start = curr = i\n",
    "                        flag = True\n",
    "                        break\n",
    "                if not flag:\n",
    "                    break\n",
    "\n",
    "        path_cover = []\n",
    "        for cycle in cycle_cover:\n",
    "            best_start = cycle[0]\n",
    "            best_start_idx = 0\n",
    "            min_weight = Gu.edges[cycle[-1][-1],cycle[0][0]]['weight']\n",
    "            for i, (u,v) in enumerate(zip(cycle, cycle[1:])):\n",
    "                if Gu.edges[u[-1],v[0]]['weight'] < min_weight:\n",
    "                    best_start = v\n",
    "                    best_start_idx = i+1\n",
    "                    min_weight = Gu.edges[u[-1],v[0]]['weight']\n",
    "            path = cycle[best_start_idx:] + cycle[:best_start_idx]\n",
    "            \n",
    "            path_flattened = list(path[0])\n",
    "            for p in path[1:]:\n",
    "                if Gu.edges[path_flattened[-1],p[0]]['weight'] > Gu.edges[path_flattened[-1],p[-1]]['weight']:\n",
    "                    path_flattened.extend(p)\n",
    "                else:\n",
    "                    path_flattened.extend(tuple(reversed(p)))\n",
    "            path_cover.append(tuple(path_flattened))\n",
    "        \n",
    "\n",
    "        Gk = nx.Graph()\n",
    "        for u in path_cover:\n",
    "            Gk.add_node(u)\n",
    "        for u in Gk.nodes:\n",
    "            for v in Gk.nodes:\n",
    "                if u != v:\n",
    "                    Gk.add_edge(u,v)\n",
    "        num_nodes = len(Gk.nodes)\n",
    "\n",
    "    return next(iter(Gk.nodes))"
   ]
  },
  {
   "cell_type": "markdown",
   "id": "7dd654eb-f845-4c96-9e9c-c53d606c6563",
   "metadata": {},
   "source": [
    "### Experiments"
   ]
  },
  {
   "cell_type": "code",
   "execution_count": 19,
   "id": "506a2324-f465-4230-ac05-edb6b2db55cf",
   "metadata": {},
   "outputs": [],
   "source": [
    "def avg(Ns):\n",
    "    return sum(Ns) / len(Ns)\n",
    "\n",
    "def neutrality(G, path, agg):\n",
    "    Ns = set()\n",
    "    for u,v in zip(path, path[1:]):\n",
    "        Ns.add(G.edges[u,v]['weight'])\n",
    "    return agg(Ns)"
   ]
  },
  {
   "cell_type": "code",
   "execution_count": 20,
   "id": "3cb0316b-3fd7-4c5c-8d27-bf3ba373b235",
   "metadata": {},
   "outputs": [],
   "source": [
    "n = 100\n",
    "Gu = nx.complete_graph(n)\n",
    "for (u,v) in Gu.edges:\n",
    "    Gu.edges[u,v]['weight'] = random.random()"
   ]
  },
  {
   "cell_type": "code",
   "execution_count": 21,
   "id": "79b729d2-e982-4256-a93a-a966d28bf3d4",
   "metadata": {},
   "outputs": [],
   "source": [
    "solvers = [via_matching, via_iterated_matching, via_cycle_cover, via_iterated_cycle_cover]\n",
    "\n",
    "solver_names = [func.__name__[4:].replace('_', ' ') for func in solvers]"
   ]
  },
  {
   "cell_type": "code",
   "execution_count": 22,
   "id": "f59c251a-8e5c-4749-98a4-cc104f710099",
   "metadata": {},
   "outputs": [
    {
     "name": "stdout",
     "output_type": "stream",
     "text": [
      "solver: matching\n",
      "Neut_avg: 0.731784348316304\n",
      "time (s): 1.7365148999999747\n",
      "\n",
      "solver: iterated matching\n",
      "%%% num nodes: 100 %%%\n",
      "%%% num nodes: 50 %%%\n",
      "%%% num nodes: 25 %%%\n",
      "%%% num nodes: 13 %%%\n",
      "%%% num nodes: 7 %%%\n",
      "%%% num nodes: 4 %%%\n",
      "%%% num nodes: 2 %%%\n",
      "Neut_avg: 0.907867624127979\n",
      "time (s): 2.51983939999991\n",
      "\n",
      "solver: cycle cover\n",
      "Neut_avg: 0.7729436601783243\n",
      "time (s): 0.10688679999998385\n",
      "\n",
      "solver: iterated cycle cover\n",
      "%%% num nodes: 100 %%%\n",
      "%%% num nodes: 47 %%%\n",
      "%%% num nodes: 18 %%%\n",
      "%%% num nodes: 9 %%%\n",
      "%%% num nodes: 4 %%%\n",
      "%%% num nodes: 2 %%%\n",
      "Neut_avg: 0.9376356584819077\n",
      "time (s): 0.22467600000004495\n",
      "\n"
     ]
    }
   ],
   "source": [
    "for func, name in zip(solvers, solver_names):\n",
    "    print(f\"solver: {name}\")\n",
    "    start = perf_counter()\n",
    "    p = func(Gu, n, verbose=True)\n",
    "    t = perf_counter() - start\n",
    "    neut = neutrality(Gu, p, avg)\n",
    "    print(f\"Neut_avg: {neut}\\ntime (s): {t}\\n\")"
   ]
  },
  {
   "cell_type": "code",
   "execution_count": 23,
   "id": "acced56c-0131-4388-8861-9dc9d7cd2d96",
   "metadata": {},
   "outputs": [],
   "source": [
    "n_domain = range(10, 100, 10)"
   ]
  },
  {
   "cell_type": "code",
   "execution_count": 24,
   "id": "6388f4ec-8d5d-451d-a371-d98b7a06d8bb",
   "metadata": {},
   "outputs": [
    {
     "name": "stderr",
     "output_type": "stream",
     "text": [
      "100%|█████████████████████████████████████████████████████████████████| 9/9 [01:25<00:00,  9.51s/it]\n"
     ]
    }
   ],
   "source": [
    "neuts = []\n",
    "times = []\n",
    "for n in tqdm(n_domain):\n",
    "    Gu = nx.complete_graph(n)\n",
    "    for (u,v) in Gu.edges:\n",
    "        Gu.edges[u,v]['weight'] = random.random()\n",
    "    \n",
    "    inner_neuts = []\n",
    "    inner_times = []\n",
    "    for func in solvers:\n",
    "        first = True\n",
    "        iterations = 10  # 5 is the standard in the timeit module\n",
    "        for i in range(iterations):\n",
    "            start = perf_counter()\n",
    "            p = func(Gu, n)\n",
    "            t = perf_counter() - start\n",
    "            neut = neutrality(Gu, p, avg)\n",
    "            if first:\n",
    "                time_min = t\n",
    "                first = False\n",
    "            else:\n",
    "                time_min = min(time_min, t)  \n",
    "        inner_neuts.append(neut)  # the solvers are deterministic\n",
    "        inner_times.append(time_min)\n",
    "    neuts.append(inner_neuts)\n",
    "    times.append(inner_times)"
   ]
  },
  {
   "cell_type": "code",
   "execution_count": 28,
   "id": "02e1f37f-28ff-49de-92f3-8cfaccfe8a5b",
   "metadata": {
    "tags": []
   },
   "outputs": [
    {
     "data": {
      "text/plain": [
       "<matplotlib.legend.Legend at 0x7f0dd99ee080>"
      ]
     },
     "execution_count": 28,
     "metadata": {},
     "output_type": "execute_result"
    },
    {
     "data": {
      "image/png": "[encoded data removed]",
      "text/plain": [
       "<Figure size 720x288 with 2 Axes>"
      ]
     },
     "metadata": {
      "needs_background": "light"
     },
     "output_type": "display_data"
    }
   ],
   "source": [
    "# %matplotlib inline\n",
    "fig, axes = plt.subplots(1, 2, figsize=(10,4))\n",
    "fig.suptitle('PathMaxTSP solver performances')\n",
    "\n",
    "axes[0].plot(n_domain, neuts)\n",
    "axes[0].plot(n_domain, [1 for _ in n_domain], label='upper bound', color='black', linestyle=':')\n",
    "axes[0].set_xlabel('n')\n",
    "axes[0].set_ylabel(r'$\\operatorname{Neut}_{\\operatorname{avg}}$')\n",
    "\n",
    "axes[1].plot(n_domain, times, label=solver_names)\n",
    "axes[1].set_xlabel('n')\n",
    "axes[1].set_ylabel('average time (s)')\n",
    "\n",
    "# axes[0].legend()\n",
    "axes[1].legend()"
   ]
  },
  {
   "cell_type": "code",
   "execution_count": null,
   "id": "7c43ac00-d983-4d9c-9280-009878291320",
   "metadata": {},
   "outputs": [],
   "source": []
  },
  {
   "cell_type": "code",
   "execution_count": null,
   "id": "fcaacc09-8f36-481b-aaa7-ccc14affb1d7",
   "metadata": {},
   "outputs": [],
   "source": []
  }
 ],
 "metadata": {
  "kernelspec": {
   "display_name": "Python [conda env:news-ordering]",
   "language": "python",
   "name": "conda-env-news-ordering-py"
  },
  "language_info": {
   "codemirror_mode": {
    "name": "ipython",
    "version": 3
   },
   "file_extension": ".py",
   "mimetype": "text/x-python",
   "name": "python",
   "nbconvert_exporter": "python",
   "pygments_lexer": "ipython3",
   "version": "3.10.2"
  }
 },
 "nbformat": 4,
 "nbformat_minor": 5
}
