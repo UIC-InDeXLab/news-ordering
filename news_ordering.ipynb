{
 "cells": [
  {
   "cell_type": "code",
   "execution_count": 1,
   "id": "fdc51667-0587-40e3-8569-a9c66110ef67",
   "metadata": {},
   "outputs": [],
   "source": [
    "import networkx as nx\n",
    "import random\n",
    "import numpy as np\n",
    "import itertools\n",
    "from time import perf_counter"
   ]
  },
  {
   "cell_type": "code",
   "execution_count": 2,
   "id": "7d81a245-5791-4671-8604-953366ab342c",
   "metadata": {},
   "outputs": [],
   "source": [
    "n = 300"
   ]
  },
  {
   "cell_type": "code",
   "execution_count": 3,
   "id": "177f30e5-079e-4561-bee7-43bb804e09d3",
   "metadata": {},
   "outputs": [],
   "source": [
    "G = nx.complete_graph(n, nx.DiGraph())\n",
    "for (u,v) in G.edges:\n",
    "    G.edges[u,v]['weight'] = random.random()"
   ]
  },
  {
   "cell_type": "markdown",
   "id": "41791c1b-64c5-47ec-afea-3e0219520e6a",
   "metadata": {},
   "source": [
    "### Approximating PathMaxATSP via matching"
   ]
  },
  {
   "cell_type": "code",
   "execution_count": 4,
   "id": "2e275b92-a670-46b5-b853-76d2220bf30b",
   "metadata": {},
   "outputs": [],
   "source": [
    "start_perf = perf_counter()"
   ]
  },
  {
   "cell_type": "code",
   "execution_count": 5,
   "id": "9c255b3e-99af-4560-934a-158bfe7933a0",
   "metadata": {},
   "outputs": [],
   "source": [
    "Gu = nx.complete_graph(n)\n",
    "for (u,v) in Gu.edges:\n",
    "    w1 = G.edges[u,v]['weight']\n",
    "    w2 = G.edges[v,u]['weight']\n",
    "    Gu.edges[u,v]['weight'] = max(w1, w2)"
   ]
  },
  {
   "cell_type": "code",
   "execution_count": 6,
   "id": "b006f519-78f4-4fdb-9ad2-789edfe95c8d",
   "metadata": {},
   "outputs": [],
   "source": [
    "matching = nx.max_weight_matching(Gu)"
   ]
  },
  {
   "cell_type": "code",
   "execution_count": 7,
   "id": "4fbe9453-81ee-4432-99d7-2f74659a90f2",
   "metadata": {},
   "outputs": [],
   "source": [
    "dir_matching = []\n",
    "for (u,v) in matching:\n",
    "    if G.edges[u,v]['weight'] > G.edges[v,u]['weight']:\n",
    "        dir_matching.append((u,v))\n",
    "    else:\n",
    "        dir_matching.append((v,u))"
   ]
  },
  {
   "cell_type": "code",
   "execution_count": 8,
   "id": "cf675997-6604-4e62-8eed-283b8929f39d",
   "metadata": {},
   "outputs": [],
   "source": [
    "def draw_edge_set(Gu, edges):\n",
    "    colors = []\n",
    "    for (u,v) in Gu.edges:\n",
    "        if (u,v) in edges or (v,u) in edges:\n",
    "            colors.append(\"red\")\n",
    "        else:\n",
    "            colors.append(\"black\")\n",
    "\n",
    "    nx.draw_networkx(Gu, edge_color=colors)"
   ]
  },
  {
   "cell_type": "code",
   "execution_count": 9,
   "id": "9ea5968d-a610-45cc-9f07-65a5633b23f4",
   "metadata": {},
   "outputs": [],
   "source": [
    "# draw_edge_set(Gu, dir_matching)"
   ]
  },
  {
   "cell_type": "code",
   "execution_count": 10,
   "id": "dd10148e-710a-4436-ac65-5e064ba9d152",
   "metadata": {},
   "outputs": [],
   "source": [
    "def edge_set_to_path(edges):\n",
    "    path = []\n",
    "    for (u,v) in dir_matching:\n",
    "        path.append(u)\n",
    "        path.append(v)\n",
    "    if n % 2 == 1:\n",
    "        vertex_sum = n * (n-1) / 2\n",
    "        final_v = int(vertex_sum - sum(path))\n",
    "        path.append(final_v)\n",
    "    return path"
   ]
  },
  {
   "cell_type": "code",
   "execution_count": 11,
   "id": "94ee80f2-cbd3-40e2-a948-47a75d0a05aa",
   "metadata": {
    "tags": []
   },
   "outputs": [],
   "source": [
    "path1 = edge_set_to_path(dir_matching)"
   ]
  },
  {
   "cell_type": "code",
   "execution_count": 12,
   "id": "c98d2883-6c64-46d2-9fe8-cdf322a31a4a",
   "metadata": {},
   "outputs": [],
   "source": [
    "end_perf = perf_counter()\n",
    "path1_time = end_perf - start_perf"
   ]
  },
  {
   "cell_type": "code",
   "execution_count": 13,
   "id": "9f439b7f-c300-41a5-bcc5-cc94c6edc329",
   "metadata": {},
   "outputs": [],
   "source": [
    "def get_path_weight(path):\n",
    "    total_weight = 0\n",
    "    for u,v in zip(path, path[1:]):\n",
    "        total_weight += G.edges[u,v]['weight']\n",
    "    return total_weight"
   ]
  },
  {
   "cell_type": "code",
   "execution_count": 14,
   "id": "90cd6098-9f20-4aeb-85a5-f38bfd46dee2",
   "metadata": {},
   "outputs": [],
   "source": [
    "# print(get_path_weight(path1))\n",
    "# print(path1)"
   ]
  },
  {
   "cell_type": "code",
   "execution_count": 15,
   "id": "891af32f-eac2-482e-9bd4-a92b5c220338",
   "metadata": {},
   "outputs": [],
   "source": [
    "# draw_edge_set(Gu, list(zip(path1, path1[1:])))"
   ]
  },
  {
   "cell_type": "markdown",
   "id": "5f6724d7-78e5-4717-832d-bb80f97194fb",
   "metadata": {
    "tags": []
   },
   "source": [
    "### Approximating PathMaxATSP via cycle cover"
   ]
  },
  {
   "cell_type": "markdown",
   "id": "78df624d-9cb4-4882-96d3-b499ce7eb5b6",
   "metadata": {},
   "source": [
    "WARNING: NetworkX uses an assignment problem solver other than the Hungarian method"
   ]
  },
  {
   "cell_type": "code",
   "execution_count": 16,
   "id": "e1856c01-4d73-4de3-8e72-d185f64cfde6",
   "metadata": {},
   "outputs": [],
   "source": [
    "from networkx.algorithms import bipartite"
   ]
  },
  {
   "cell_type": "code",
   "execution_count": 17,
   "id": "b9ef70f8-abe2-4bd9-8ed0-ec0f9bd87bb9",
   "metadata": {},
   "outputs": [],
   "source": [
    "start_perf = perf_counter()"
   ]
  },
  {
   "cell_type": "code",
   "execution_count": 18,
   "id": "ef6a0a7b-7b16-475f-9b41-297892a96fc0",
   "metadata": {},
   "outputs": [],
   "source": [
    "Gb = nx.Graph()\n",
    "for i in range(2*n):\n",
    "    Gb.add_node(i)\n",
    "for (u,v) in G.edges:\n",
    "    Gb.add_edge(u, v+n, weight=1-G.edges[u,v]['weight'])  # account for min weight NetworkX method"
   ]
  },
  {
   "cell_type": "code",
   "execution_count": 19,
   "id": "57380ed0-6a3b-4906-b681-02aa7c1264af",
   "metadata": {},
   "outputs": [],
   "source": [
    "mb_dict = bipartite.minimum_weight_full_matching(Gb, top_nodes=list(Gb.nodes)[:n])"
   ]
  },
  {
   "cell_type": "code",
   "execution_count": 20,
   "id": "1bfb832e-c778-444d-9db5-a909ed310240",
   "metadata": {},
   "outputs": [],
   "source": [
    "# draw_edge_set(Gb, list(mb_dict.items()))"
   ]
  },
  {
   "cell_type": "code",
   "execution_count": 21,
   "id": "09ba3cff-a31e-4fc8-9cc8-25c3585cef9d",
   "metadata": {},
   "outputs": [],
   "source": [
    "m_dict = {}\n",
    "for u,v in mb_dict.items():\n",
    "    if u < n:\n",
    "        x,y = u,v\n",
    "    else:\n",
    "        x,y = v,u\n",
    "    m_dict[x] = y-n"
   ]
  },
  {
   "cell_type": "code",
   "execution_count": 22,
   "id": "6e9297ab-c888-472a-ba2c-4d21c64aaead",
   "metadata": {},
   "outputs": [],
   "source": [
    "# draw_edge_set(Gu, list(m_dict.items()))"
   ]
  },
  {
   "cell_type": "code",
   "execution_count": 23,
   "id": "2fc40602-d8cf-4c50-80e4-dd73d4747a5a",
   "metadata": {},
   "outputs": [],
   "source": [
    "cycle_cover = []\n",
    "\n",
    "done = set()\n",
    "\n",
    "cycle = []\n",
    "start = curr = 0\n",
    "\n",
    "while True:\n",
    "    cycle.append(curr)\n",
    "    done.add(curr)\n",
    "    curr = m_dict[curr]\n",
    "    if curr == start:\n",
    "        cycle_cover.append(cycle)\n",
    "        cycle = []\n",
    "        flag = False\n",
    "        for i in range(n):\n",
    "            if i not in done:\n",
    "                start = curr = i\n",
    "                flag = True\n",
    "                break\n",
    "        if not flag:\n",
    "            break"
   ]
  },
  {
   "cell_type": "code",
   "execution_count": 24,
   "id": "01e49de5-6568-4778-afac-e4968f4e56c1",
   "metadata": {},
   "outputs": [],
   "source": [
    "path_cover = []\n",
    "for cycle in cycle_cover:\n",
    "    best_start = cycle[0]\n",
    "    best_start_idx = 0\n",
    "    min_weight = G.edges[cycle[-1],cycle[0]]['weight']  # all weights are in [0,1]\n",
    "    for i, (u,v) in enumerate(zip(cycle, cycle[1:])):\n",
    "        if G.edges[u,v]['weight'] < min_weight:\n",
    "            best_start = v\n",
    "            best_start_idx = i+1\n",
    "            min_weight = G.edges[u,v]['weight']\n",
    "    path = cycle[best_start_idx:] + cycle[:best_start_idx]\n",
    "    path_cover.append(path)"
   ]
  },
  {
   "cell_type": "code",
   "execution_count": 25,
   "id": "dd2af0ec-cd2e-4093-ab8f-6d72491791f0",
   "metadata": {},
   "outputs": [],
   "source": [
    "path3 = list(itertools.chain(*path_cover))"
   ]
  },
  {
   "cell_type": "code",
   "execution_count": 26,
   "id": "8e5bc83d-fb12-4b9b-bd0a-fac3ee40e027",
   "metadata": {},
   "outputs": [],
   "source": [
    "end_perf = perf_counter()\n",
    "path3_time = end_perf - start_perf"
   ]
  },
  {
   "cell_type": "code",
   "execution_count": 27,
   "id": "09d9abe6-d981-408e-bbe3-6237ebc279c9",
   "metadata": {},
   "outputs": [],
   "source": [
    "# print(get_path_weight(path3))\n",
    "# print(path3)"
   ]
  },
  {
   "cell_type": "code",
   "execution_count": 28,
   "id": "8d97760a-793f-4d53-8953-10b5f0996443",
   "metadata": {},
   "outputs": [],
   "source": [
    "# draw_edge_set(Gu, list(zip(path3, path3[1:])))"
   ]
  },
  {
   "cell_type": "markdown",
   "id": "7dd654eb-f845-4c96-9e9c-c53d606c6563",
   "metadata": {},
   "source": [
    "## Results"
   ]
  },
  {
   "cell_type": "markdown",
   "id": "a86b7a50-34f0-4cc5-8da6-c30ed78050ef",
   "metadata": {},
   "source": [
    "#### expected random path weight"
   ]
  },
  {
   "cell_type": "code",
   "execution_count": 29,
   "id": "9a9a01bf-4218-460d-8420-06cb2e0142bc",
   "metadata": {},
   "outputs": [
    {
     "data": {
      "text/plain": [
       "149.5"
      ]
     },
     "execution_count": 29,
     "metadata": {},
     "output_type": "execute_result"
    }
   ],
   "source": [
    "(n-1)*0.5"
   ]
  },
  {
   "cell_type": "markdown",
   "id": "dd0f585b-40a0-4377-a404-9149c9669ca1",
   "metadata": {},
   "source": [
    "#### theoretical upper bound on path weight"
   ]
  },
  {
   "cell_type": "code",
   "execution_count": 30,
   "id": "39d9f54b-0135-42d0-861f-391a9c2a43ba",
   "metadata": {},
   "outputs": [
    {
     "data": {
      "text/plain": [
       "299"
      ]
     },
     "execution_count": 30,
     "metadata": {},
     "output_type": "execute_result"
    }
   ],
   "source": [
    "(n-1)*1"
   ]
  },
  {
   "cell_type": "markdown",
   "id": "1361c647-37ee-4741-bd75-0bb773d789bc",
   "metadata": {},
   "source": [
    "#### matching approx"
   ]
  },
  {
   "cell_type": "code",
   "execution_count": 31,
   "id": "31a797e1-ee76-4a83-bbce-ede13a838542",
   "metadata": {},
   "outputs": [
    {
     "name": "stdout",
     "output_type": "stream",
     "text": [
      "weight 228.44499891030858 in 35.998076899995795 seconds\n"
     ]
    }
   ],
   "source": [
    "print(f\"weight {get_path_weight(path1)} in {path1_time} seconds\")"
   ]
  },
  {
   "cell_type": "markdown",
   "id": "891a9fe5-a58f-4b72-8348-226920af9a3c",
   "metadata": {},
   "source": [
    "#### cycle cover approx"
   ]
  },
  {
   "cell_type": "code",
   "execution_count": 32,
   "id": "1545f39d-198f-4ce8-804d-3e43665cf8b4",
   "metadata": {},
   "outputs": [
    {
     "name": "stdout",
     "output_type": "stream",
     "text": [
      "weight 295.7804644362829 in 1.2505307999963406 seconds\n"
     ]
    }
   ],
   "source": [
    "print(f\"weight {get_path_weight(path3)} in {path3_time} seconds\")"
   ]
  }
 ],
 "metadata": {
  "kernelspec": {
   "display_name": "Python [conda env:news-ordering]",
   "language": "python",
   "name": "conda-env-news-ordering-py"
  },
  "language_info": {
   "codemirror_mode": {
    "name": "ipython",
    "version": 3
   },
   "file_extension": ".py",
   "mimetype": "text/x-python",
   "name": "python",
   "nbconvert_exporter": "python",
   "pygments_lexer": "ipython3",
   "version": "3.10.2"
  }
 },
 "nbformat": 4,
 "nbformat_minor": 5
}
