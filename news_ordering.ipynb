{
 "cells": [
  {
   "cell_type": "markdown",
   "id": "f0fe081f-9c6b-48ca-a606-51a1aed5ca46",
   "metadata": {},
   "source": [
    "### Setup"
   ]
  },
  {
   "cell_type": "code",
   "execution_count": 1,
   "id": "fdc51667-0587-40e3-8569-a9c66110ef67",
   "metadata": {},
   "outputs": [],
   "source": [
    "import networkx as nx\n",
    "import random\n",
    "import numpy as np\n",
    "import itertools\n",
    "from time import perf_counter\n",
    "from math import ceil\n",
    "from networkx.algorithms import bipartite"
   ]
  },
  {
   "cell_type": "markdown",
   "id": "5084976d-7ef7-48d3-88bb-4775e2285899",
   "metadata": {},
   "source": [
    "### Utility functions"
   ]
  },
  {
   "cell_type": "code",
   "execution_count": 2,
   "id": "cf675997-6604-4e62-8eed-283b8929f39d",
   "metadata": {},
   "outputs": [],
   "source": [
    "def draw_edge_set(Gu, edges):\n",
    "    colors = []\n",
    "    for (u,v) in Gu.edges:\n",
    "        if (u,v) in edges or (v,u) in edges:\n",
    "            colors.append(\"red\")\n",
    "        else:\n",
    "            colors.append(\"black\")\n",
    "\n",
    "    nx.draw_networkx(Gu, edge_color=colors)"
   ]
  },
  {
   "cell_type": "code",
   "execution_count": 3,
   "id": "9f439b7f-c300-41a5-bcc5-cc94c6edc329",
   "metadata": {},
   "outputs": [],
   "source": [
    "def get_path_weight(G, path):\n",
    "    total_weight = 0\n",
    "    for u,v in zip(path, path[1:]):\n",
    "        total_weight += G.edges[u,v]['weight']\n",
    "    return total_weight"
   ]
  },
  {
   "cell_type": "code",
   "execution_count": 4,
   "id": "e4725e03-594a-4511-a887-5dd33b255902",
   "metadata": {},
   "outputs": [],
   "source": [
    "def contract(u,v):\n",
    "    w1 = G.edges[u[-1],v[0]]['weight']\n",
    "    w2 = G.edges[v[-1],u[0]]['weight']\n",
    "    if w1 > w2:\n",
    "        return u + v, w1\n",
    "    else:\n",
    "        return v + u, w2"
   ]
  },
  {
   "cell_type": "code",
   "execution_count": 5,
   "id": "eb8b3415-571a-470b-9159-7b8c024da71c",
   "metadata": {},
   "outputs": [],
   "source": [
    "def info(string, verbose):\n",
    "    if verbose:\n",
    "        print(f\"%%% {string} %%%\")"
   ]
  },
  {
   "cell_type": "markdown",
   "id": "cfc8bff9-d36a-481f-a3a8-f2fd879ccb9f",
   "metadata": {},
   "source": [
    "### Solvers"
   ]
  },
  {
   "cell_type": "code",
   "execution_count": 6,
   "id": "0765965c-1d31-4477-852c-a10e8549506e",
   "metadata": {},
   "outputs": [],
   "source": [
    "def via_brute_force(G, n, verbose=False):\n",
    "    path = None\n",
    "    w_max = 0\n",
    "    for p in itertools.permutations(range(n)):\n",
    "        w = get_path_weight(G, p)\n",
    "        if w > w_max:\n",
    "            path = p\n",
    "            w_max = w\n",
    "    return path"
   ]
  },
  {
   "cell_type": "code",
   "execution_count": 7,
   "id": "9c255b3e-99af-4560-934a-158bfe7933a0",
   "metadata": {},
   "outputs": [],
   "source": [
    "def via_matching(G, n, verbose=False):\n",
    "    Gu = nx.complete_graph(n)\n",
    "    for u,v in Gu.edges:\n",
    "        w1 = G.edges[u,v]['weight']\n",
    "        w2 = G.edges[v,u]['weight']\n",
    "        Gu.edges[u,v]['weight'] = max(w1, w2)\n",
    "\n",
    "    matching = nx.max_weight_matching(Gu)\n",
    "\n",
    "    dir_matching = []\n",
    "    for u,v in matching:\n",
    "        if G.edges[u,v]['weight'] > G.edges[v,u]['weight']:\n",
    "            dir_matching.append((u,v))\n",
    "        else:\n",
    "            dir_matching.append((v,u))\n",
    "    # draw_edge_set(Gu, dir_matching)\n",
    "\n",
    "    path = []\n",
    "    for u,v in dir_matching:\n",
    "        path.append(u)\n",
    "        path.append(v)\n",
    "    if n % 2 == 1:\n",
    "        vertex_sum = n * (n-1) / 2\n",
    "        final_v = int(vertex_sum - sum(path))\n",
    "        path.append(final_v)\n",
    "    \n",
    "    return path"
   ]
  },
  {
   "cell_type": "code",
   "execution_count": 8,
   "id": "c932e27c-15db-483e-853f-c08b66310610",
   "metadata": {},
   "outputs": [],
   "source": [
    "def via_iterated_matching(G, n, verbose=False):\n",
    "    Gk = nx.complete_graph([(i,) for i in range(n)])\n",
    "    for u in Gk.nodes:\n",
    "        Gk.nodes[u]['value'] = u[0]\n",
    "    for u,v in Gk.edges:\n",
    "        _,w = contract(u,v)\n",
    "        Gk.edges[u,v]['weight'] = w\n",
    "\n",
    "    num_nodes = n\n",
    "    while num_nodes > 1:\n",
    "        info(f\"num nodes: {num_nodes}\", verbose)\n",
    "        \n",
    "        Gk_old = Gk\n",
    "        Gk = nx.Graph()\n",
    "\n",
    "        matching = nx.max_weight_matching(Gk_old)\n",
    "\n",
    "        if num_nodes % 2 == 1:\n",
    "            value_sum = n * (n-1) / 2\n",
    "            for u,v in matching:\n",
    "                value_sum -= Gk_old.nodes[u]['value'] + Gk_old.nodes[v]['value']\n",
    "            final_value = int(value_sum)\n",
    "            for u in Gk_old.nodes:\n",
    "                if Gk_old.nodes[u]['value'] == final_value:\n",
    "                    fluke = False\n",
    "                    for x,y in matching:\n",
    "                        if u in (x,y):\n",
    "                            fluke = True\n",
    "                    if not fluke:\n",
    "                        Gk.add_node(u)\n",
    "                        Gk.nodes[u]['value'] = final_value\n",
    "\n",
    "        for u,v in matching:\n",
    "            node,_ = contract(u,v)\n",
    "            Gk.add_node(node)\n",
    "            Gk.nodes[node]['value'] = Gk_old.nodes[u]['value'] + Gk_old.nodes[v]['value']\n",
    "\n",
    "        for u in Gk.nodes:\n",
    "            for v in Gk.nodes:\n",
    "                if u != v:\n",
    "                    _,w = contract(u,v)\n",
    "                    Gk.add_edge(u, v, weight=w)\n",
    "\n",
    "        num_nodes = len(Gk.nodes)\n",
    "\n",
    "    for u in Gk.nodes:\n",
    "        assert Gk.nodes[u]['value'] == n * (n-1) / 2\n",
    "\n",
    "    return list(Gk.nodes)[0]"
   ]
  },
  {
   "cell_type": "markdown",
   "id": "78df624d-9cb4-4882-96d3-b499ce7eb5b6",
   "metadata": {},
   "source": [
    "WARNING: NetworkX uses an assignment problem solver other than the Hungarian method"
   ]
  },
  {
   "cell_type": "code",
   "execution_count": 9,
   "id": "ef6a0a7b-7b16-475f-9b41-297892a96fc0",
   "metadata": {
    "tags": []
   },
   "outputs": [],
   "source": [
    "def via_cycle_cover(G, n, verbose=False):\n",
    "    Gb = nx.Graph()\n",
    "    for i in range(2*n):\n",
    "        Gb.add_node(i)\n",
    "    for u,v in G.edges:\n",
    "        Gb.add_edge(u, v+n, weight=1-G.edges[u,v]['weight'])  # account for min weight NetworkX method\n",
    "\n",
    "    mb_dict = bipartite.minimum_weight_full_matching(Gb, top_nodes=list(Gb.nodes)[:n])\n",
    "    # draw_edge_set(Gb, list(mb_dict.items()))\n",
    "\n",
    "    m_dict = {}\n",
    "    for u,v in mb_dict.items():\n",
    "        if u < n:\n",
    "            x,y = u,v\n",
    "        else:\n",
    "            x,y = v,u\n",
    "        m_dict[x] = y-n\n",
    "    # draw_edge_set(Gu, list(m_dict.items()))\n",
    "\n",
    "\n",
    "    cycle_cover = []\n",
    "\n",
    "    done = set()\n",
    "    cycle = []\n",
    "    start = curr = 0\n",
    "\n",
    "    while True:\n",
    "        cycle.append(curr)\n",
    "        done.add(curr)\n",
    "        curr = m_dict[curr]\n",
    "        if curr == start:\n",
    "            cycle_cover.append(cycle)\n",
    "            cycle = []\n",
    "            flag = False\n",
    "            for i in range(n):\n",
    "                if i not in done:\n",
    "                    start = curr = i\n",
    "                    flag = True\n",
    "                    break\n",
    "            if not flag:\n",
    "                break\n",
    "\n",
    "    path_cover = []\n",
    "    for cycle in cycle_cover:\n",
    "        best_start = cycle[0]\n",
    "        best_start_idx = 0\n",
    "        min_weight = G.edges[cycle[-1],cycle[0]]['weight']\n",
    "        for i, (u,v) in enumerate(zip(cycle, cycle[1:])):\n",
    "            if G.edges[u,v]['weight'] < min_weight:\n",
    "                best_start = v\n",
    "                best_start_idx = i+1\n",
    "                min_weight = G.edges[u,v]['weight']\n",
    "        path = cycle[best_start_idx:] + cycle[:best_start_idx]\n",
    "        path_cover.append(path)\n",
    "\n",
    "    return list(itertools.chain(*path_cover))"
   ]
  },
  {
   "cell_type": "code",
   "execution_count": 10,
   "id": "87134501-4f30-4044-81b3-49a2df4e0d07",
   "metadata": {},
   "outputs": [],
   "source": [
    "def via_iterated_cycle_cover(G, n, verbose=False):\n",
    "    Gk = nx.complete_graph([(i,) for i in range(n)], nx.DiGraph())\n",
    "    num_nodes = n  \n",
    "    \n",
    "    while num_nodes > 1:\n",
    "        info(f\"num nodes: {num_nodes}\", verbose)\n",
    "        \n",
    "        Gb = nx.Graph()\n",
    "        for u in Gk.nodes:\n",
    "            Gb.add_node(u)\n",
    "            Gb.add_node(tuple([i + n for i in u]))\n",
    "        for u,v in Gk.edges:\n",
    "            Gb.add_edge(u, tuple([i + n for i in v]), weight=1-G.edges[u[-1],v[0]]['weight'])  # account for min weight NetworkX method\n",
    "        \n",
    "        mb_dict = bipartite.minimum_weight_full_matching(Gb, top_nodes=list(Gb.nodes)[::2])\n",
    "        # draw_edge_set(Gb, list(mb_dict.items()))\n",
    "\n",
    "        m_dict = {}\n",
    "        for u,v in mb_dict.items():\n",
    "            if u[0] < n:\n",
    "                x,y = u,v\n",
    "            else:\n",
    "                x,y = v,u\n",
    "            m_dict[x] = tuple([i - n for i in y])\n",
    "        # draw_edge_set(Gu, list(m_dict.items()))\n",
    "\n",
    "\n",
    "        cycle_cover = []\n",
    "\n",
    "        done = set()\n",
    "        cycle = []\n",
    "        start = curr = random.choice([*m_dict])  # start with random node\n",
    "\n",
    "        while True:\n",
    "            cycle.extend(curr)\n",
    "            done.add(curr)\n",
    "            curr = m_dict[curr]\n",
    "            if curr == start:\n",
    "                cycle_cover.append(cycle)\n",
    "                cycle = []\n",
    "                flag = False\n",
    "                for i in [*m_dict]:\n",
    "                    if i not in done:\n",
    "                        start = curr = i\n",
    "                        flag = True\n",
    "                        break\n",
    "                if not flag:\n",
    "                    break\n",
    "\n",
    "        path_cover = []\n",
    "        for cycle in cycle_cover:\n",
    "            best_start = cycle[0]\n",
    "            best_start_idx = 0\n",
    "            min_weight = G.edges[cycle[-1],cycle[0]]['weight']\n",
    "            for i, (u,v) in enumerate(zip(cycle, cycle[1:])):\n",
    "                if G.edges[u,v]['weight'] < min_weight:\n",
    "                    best_start = v\n",
    "                    best_start_idx = i+1\n",
    "                    min_weight = G.edges[u,v]['weight']\n",
    "            path = cycle[best_start_idx:] + cycle[:best_start_idx]\n",
    "            path_cover.append(tuple(path))\n",
    "        \n",
    "        Gk = nx.DiGraph()\n",
    "        for u in path_cover:\n",
    "            Gk.add_node(u)\n",
    "        for u in Gk.nodes:\n",
    "            for v in Gk.nodes:\n",
    "                if u != v:\n",
    "                    Gk.add_edge(u,v)\n",
    "        num_nodes = len(Gk.nodes)\n",
    "\n",
    "    return list(Gk.nodes)[0]"
   ]
  },
  {
   "cell_type": "markdown",
   "id": "7dd654eb-f845-4c96-9e9c-c53d606c6563",
   "metadata": {},
   "source": [
    "### Experiments"
   ]
  },
  {
   "cell_type": "code",
   "execution_count": 26,
   "id": "3cb0316b-3fd7-4c5c-8d27-bf3ba373b235",
   "metadata": {},
   "outputs": [],
   "source": [
    "n = 700\n",
    "G = nx.complete_graph(n, nx.DiGraph())\n",
    "for (u,v) in G.edges:\n",
    "    G.edges[u,v]['weight'] = random.random()"
   ]
  },
  {
   "cell_type": "markdown",
   "id": "a86b7a50-34f0-4cc5-8da6-c30ed78050ef",
   "metadata": {},
   "source": [
    "#### expected random path weight"
   ]
  },
  {
   "cell_type": "code",
   "execution_count": 27,
   "id": "9a9a01bf-4218-460d-8420-06cb2e0142bc",
   "metadata": {},
   "outputs": [
    {
     "data": {
      "text/plain": [
       "349.5"
      ]
     },
     "execution_count": 27,
     "metadata": {},
     "output_type": "execute_result"
    }
   ],
   "source": [
    "(n-1)*0.5"
   ]
  },
  {
   "cell_type": "markdown",
   "id": "dd0f585b-40a0-4377-a404-9149c9669ca1",
   "metadata": {},
   "source": [
    "#### theoretical upper bound on path weight"
   ]
  },
  {
   "cell_type": "code",
   "execution_count": 28,
   "id": "39d9f54b-0135-42d0-861f-391a9c2a43ba",
   "metadata": {},
   "outputs": [
    {
     "data": {
      "text/plain": [
       "699"
      ]
     },
     "execution_count": 28,
     "metadata": {},
     "output_type": "execute_result"
    }
   ],
   "source": [
    "(n-1)*1"
   ]
  },
  {
   "cell_type": "markdown",
   "id": "bb271eff-19d3-48f0-aa75-344eacbf437b",
   "metadata": {},
   "source": [
    "#### solvers"
   ]
  },
  {
   "cell_type": "code",
   "execution_count": 29,
   "id": "79b729d2-e982-4256-a93a-a966d28bf3d4",
   "metadata": {},
   "outputs": [],
   "source": [
    "# solvers = [via_matching, via_iterated_matching, via_cycle_cover, via_iterated_cycle_cover]\n",
    "solvers = [via_cycle_cover, via_iterated_cycle_cover]\n",
    "verbose = True\n",
    "sols = []"
   ]
  },
  {
   "cell_type": "code",
   "execution_count": 30,
   "id": "f59c251a-8e5c-4749-98a4-cc104f710099",
   "metadata": {},
   "outputs": [
    {
     "name": "stdout",
     "output_type": "stream",
     "text": [
      "solver: via_cycle_cover\n",
      "weight: 694.4985662493443\n",
      "time (s): 4.3000039000000925\n",
      "\n",
      "solver: via_iterated_cycle_cover\n",
      "%%% num nodes: 700 %%%\n",
      "%%% num nodes: 7 %%%\n",
      "%%% num nodes: 2 %%%\n",
      "weight: 696.5246047696877\n",
      "time (s): 5.882794600000125\n",
      "\n"
     ]
    }
   ],
   "source": [
    "for func in solvers:\n",
    "    print(f\"solver: {func.__name__}\")\n",
    "    start = perf_counter()\n",
    "    p = func(G, n, verbose=verbose)\n",
    "    t = perf_counter() - start\n",
    "    w = get_path_weight(G, p)\n",
    "    sols.append((p, w, t))\n",
    "    print(f\"weight: {w}\\ntime (s): {t}\\n\")"
   ]
  },
  {
   "cell_type": "code",
   "execution_count": null,
   "id": "6388f4ec-8d5d-451d-a371-d98b7a06d8bb",
   "metadata": {},
   "outputs": [],
   "source": []
  }
 ],
 "metadata": {
  "kernelspec": {
   "display_name": "Python [conda env:news-ordering]",
   "language": "python",
   "name": "conda-env-news-ordering-py"
  },
  "language_info": {
   "codemirror_mode": {
    "name": "ipython",
    "version": 3
   },
   "file_extension": ".py",
   "mimetype": "text/x-python",
   "name": "python",
   "nbconvert_exporter": "python",
   "pygments_lexer": "ipython3",
   "version": "3.10.2"
  }
 },
 "nbformat": 4,
 "nbformat_minor": 5
}
