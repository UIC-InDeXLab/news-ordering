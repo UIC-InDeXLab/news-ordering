{
 "cells": [
  {
   "cell_type": "code",
   "execution_count": 28,
   "id": "5906bf92-c10f-4e7b-b819-f678bc1c5351",
   "metadata": {},
   "outputs": [],
   "source": [
    "import os\n",
    "from collections import defaultdict as dd\n",
    "import numpy as np\n",
    "from scipy import stats as st\n",
    "from matplotlib import pyplot as plt"
   ]
  },
  {
   "attachments": {},
   "cell_type": "markdown",
   "id": "f8aee60a-1ed7-485a-8cfb-4797ebf63c77",
   "metadata": {},
   "source": [
    "# read data"
   ]
  },
  {
   "cell_type": "code",
   "execution_count": 66,
   "id": "e6d44dd4-a4ae-4802-919f-bba96ae42431",
   "metadata": {},
   "outputs": [
    {
     "name": "stdout",
     "output_type": "stream",
     "text": [
      "reading set_1.txt...\n",
      "reading set_2.txt...\n",
      "reading set_3.txt...\n",
      "reading set_4.txt...\n",
      "reading set_5.txt...\n",
      "reading set_6.txt...\n"
     ]
    }
   ],
   "source": [
    "mats = {}\n",
    "totals = {}\n",
    "\n",
    "with os.scandir(\"./data/2022-07/labeled_sanitized/\") as directory:\n",
    "    for entry in directory:\n",
    "        if entry.is_file() and int(entry.name[4:entry.name.index(\".txt\")]) in (1,2,3,4,5,6):\n",
    "            print(f\"reading {entry.name}...\")\n",
    "            with open(entry.path) as file:\n",
    "                for i, line in enumerate(file.readlines()):\n",
    "                    if i > 15:\n",
    "                        idx = i % 7\n",
    "                        if idx == 3:\n",
    "                            id_l = line[1:line.index(')')]\n",
    "                        elif idx == 4:\n",
    "                            id_r = line[1:line.index(')')]\n",
    "                        elif idx == 5:\n",
    "                            if line == 'Y\\n':\n",
    "                                label = 0  # pairwise neutrality\n",
    "                            elif line == 'N\\n':\n",
    "                                label = 1\n",
    "                            elif line == 'M\\n':\n",
    "                                label = 0.5\n",
    "                            else:\n",
    "                                raise ValueError(f\"invalid label: '{line}'\")\n",
    "                            pair = (int(id_l[1:]), int(id_r[1:]))\n",
    "                            source = id_l[0]\n",
    "                            if source not in mats:\n",
    "                                mats[source] = dd(int)\n",
    "                                totals[source] = dd(int)\n",
    "                            mats[source][pair] += label\n",
    "                            totals[source][pair] += 1\n",
    "\n",
    "for source in mats:\n",
    "    mat = mats[source]\n",
    "    tot = totals[source]\n",
    "    for key in mat:\n",
    "        mat[key] /= tot[key]"
   ]
  },
  {
   "attachments": {},
   "cell_type": "markdown",
   "id": "4f764c9f-d056-42e0-a026-fd1e11c00e68",
   "metadata": {
    "tags": []
   },
   "source": [
    "# generate graphs"
   ]
  },
  {
   "attachments": {},
   "cell_type": "markdown",
   "id": "dbde9d6e-37ad-4fd2-a05c-59ed80e1e4d7",
   "metadata": {},
   "source": [
    "## real data"
   ]
  },
  {
   "cell_type": "code",
   "execution_count": 67,
   "id": "1f7b62e4-26ec-4b1a-a64a-791eff50b7eb",
   "metadata": {},
   "outputs": [],
   "source": [
    "for source in mats:\n",
    "    with open(f\"./data/graphs/{source}.txt\", \"w\") as file:\n",
    "        res = []\n",
    "        for (u,v), weight in mats[source].items():\n",
    "            res.append(f\"{u} {v} {weight}\")\n",
    "        file.write('\\n'.join(res))"
   ]
  },
  {
   "attachments": {},
   "cell_type": "markdown",
   "id": "6c035fb7-77c4-4e6b-b07c-c1d021d8d600",
   "metadata": {},
   "source": [
    "## semi-synthetic data"
   ]
  },
  {
   "cell_type": "code",
   "execution_count": 68,
   "id": "87019f45-b0ad-4ac6-b28d-112440893a18",
   "metadata": {},
   "outputs": [],
   "source": [
    "wlist = []\n",
    "for mat in mats.values():\n",
    "    for val in mat.values():\n",
    "        wlist.append(val)"
   ]
  },
  {
   "cell_type": "code",
   "execution_count": 69,
   "id": "2de8badc-dac5-48c5-ae80-dddc3cf4b094",
   "metadata": {},
   "outputs": [],
   "source": [
    "counts = dd(int)\n",
    "for w in wlist:\n",
    "    counts[w] += 1\n",
    "counts_x = sorted(counts.keys())\n",
    "counts_y = []\n",
    "for x in counts_x:\n",
    "    counts_y.append((counts_y[-1] if counts_y else 0) + counts[x] / len(wlist))"
   ]
  },
  {
   "cell_type": "code",
   "execution_count": 70,
   "id": "1a672678-f293-4de3-9a0e-bd6ef04f4073",
   "metadata": {},
   "outputs": [],
   "source": [
    "distributions = [st.alpha, st.anglit, st.arcsine, st.argus, st.beta, st.betaprime, st.bradford, st.burr, st.burr12, st.cauchy, st.chi, st.chi2, st.cosine, st.crystalball, st.dgamma, st.dweibull, st.exponnorm, st.exponweib, st.exponpow, st.f, st.fatiguelife, st.fisk, st.foldcauchy, st.foldnorm, st.genlogistic, st.gennorm, st.genpareto, st.genexpon, st.genextreme, st.gausshyper, st.gamma, st.gengamma, st.genhalflogistic, st.genhyperbolic, st.geninvgauss, st.gompertz, st.gumbel_r, st.gumbel_l, st.halfcauchy, st.halflogistic, st.halfnorm, st.halfgennorm, st.hypsecant, st.invgamma, st.invgauss, st.invweibull, st.johnsonsb, st.johnsonsu, st.kappa4, st.kappa3, st.ksone, st.kstwobign, st.laplace, st.laplace_asymmetric, st.levy, st.levy_l, st.logistic, st.loggamma, st.lognorm, st.loguniform, st.lomax, st.maxwell, st.mielke, st.moyal, st.nakagami, st.ncx2, st.ncf, st.nct, st.norm, st.norminvgauss, st.pareto, st.pearson3, st.powerlaw, st.powerlognorm, st.powernorm, st.rdist, st.rayleigh, st.rice, st.recipinvgauss, st.semicircular, st.skewcauchy, st.skewnorm, st.t, st.trapezoid, st.triang, st.truncexpon, st.truncnorm, st.vonmises_line, st.wald, st.weibull_min, st.weibull_max, st.wrapcauchy]"
   ]
  },
  {
   "cell_type": "code",
   "execution_count": 71,
   "id": "639eee44-0c7a-4bbf-b192-45536b00a7a9",
   "metadata": {},
   "outputs": [
    {
     "name": "stdout",
     "output_type": "stream",
     "text": [
      "alpha, anglit, "
     ]
    },
    {
     "name": "stderr",
     "output_type": "stream",
     "text": [
      "/home/rishi/mambaforge/envs/news-ordering/lib/python3.10/site-packages/scipy/stats/_distn_infrastructure.py:2640: RuntimeWarning: invalid value encountered in double_scalars\n",
      "  Lhat = muhat - Shat*mu\n"
     ]
    },
    {
     "name": "stdout",
     "output_type": "stream",
     "text": [
      "arcsine, argus, beta, betaprime, bradford, burr, "
     ]
    },
    {
     "name": "stderr",
     "output_type": "stream",
     "text": [
      "/home/rishi/mambaforge/envs/news-ordering/lib/python3.10/site-packages/scipy/stats/_continuous_distns.py:809: RuntimeWarning: divide by zero encountered in true_divide\n",
      "  a/(b-1.0),\n",
      "/home/rishi/mambaforge/envs/news-ordering/lib/python3.10/site-packages/scipy/stats/_continuous_distns.py:813: RuntimeWarning: divide by zero encountered in true_divide\n",
      "  a*(a+1.0)/((b-2.0)*(b-1.0)),\n",
      "/home/rishi/mambaforge/envs/news-ordering/lib/python3.10/site-packages/scipy/stats/_continuous_distns.py:950: RuntimeWarning: overflow encountered in power\n",
      "  - sc.xlog1py(d_+1, x_**(-c_))))\n"
     ]
    },
    {
     "name": "stdout",
     "output_type": "stream",
     "text": [
      "burr12, cauchy, chi, chi2, cosine, crystalball, dgamma, dweibull, exponnorm, exponweib, exponpow, f, fatiguelife, fisk, foldcauchy, foldnorm, genlogistic, gennorm, genpareto, genexpon, genextreme, "
     ]
    },
    {
     "name": "stderr",
     "output_type": "stream",
     "text": [
      "/home/rishi/mambaforge/envs/news-ordering/lib/python3.10/site-packages/scipy/stats/_continuous_distns.py:2500: RuntimeWarning: invalid value encountered in subtract\n",
      "  -pex2+logpex2-logex2)\n"
     ]
    },
    {
     "name": "stdout",
     "output_type": "stream",
     "text": [
      "gausshyper, gamma, "
     ]
    },
    {
     "name": "stderr",
     "output_type": "stream",
     "text": [
      "/home/rishi/mambaforge/envs/news-ordering/lib/python3.10/site-packages/scipy/stats/_continuous_distns.py:3622: RuntimeWarning: divide by zero encountered in power\n",
      "  return 1.0/Cinv * x**(a-1.0) * (1.0-x)**(b-1.0) / (1.0+z*x)**c\n"
     ]
    },
    {
     "name": "stdout",
     "output_type": "stream",
     "text": [
      "gengamma, genhalflogistic, "
     ]
    },
    {
     "name": "stderr",
     "output_type": "stream",
     "text": [
      "/home/rishi/mambaforge/envs/news-ordering/lib/python3.10/site-packages/scipy/stats/_continuous_distns.py:2959: RuntimeWarning: divide by zero encountered in power\n",
      "  tmp0 = tmp**(limit-1)\n",
      "/home/rishi/mambaforge/envs/news-ordering/lib/python3.10/site-packages/scipy/stats/_continuous_distns.py:2960: RuntimeWarning: invalid value encountered in multiply\n",
      "  tmp2 = tmp0*tmp\n"
     ]
    },
    {
     "name": "stdout",
     "output_type": "stream",
     "text": [
      "genhyperbolic, geninvgauss, "
     ]
    },
    {
     "name": "stderr",
     "output_type": "stream",
     "text": [
      "/home/rishi/mambaforge/envs/news-ordering/lib/python3.10/site-packages/scipy/stats/_continuous_distns.py:3857: RuntimeWarning: Infinite values encountered in scipy.special.kve(p, b). Values replaced by NaN to avoid incorrect results.\n",
      "  warnings.warn(msg, RuntimeWarning)\n"
     ]
    },
    {
     "name": "stdout",
     "output_type": "stream",
     "text": [
      "gompertz, gumbel_r, gumbel_l, halfcauchy, halflogistic, halfnorm, halfgennorm, hypsecant, invgamma, invgauss, invweibull, johnsonsb, johnsonsu, "
     ]
    },
    {
     "name": "stderr",
     "output_type": "stream",
     "text": [
      "/home/rishi/mambaforge/envs/news-ordering/lib/python3.10/site-packages/scipy/stats/_continuous_distns.py:4343: RuntimeWarning: divide by zero encountered in log\n",
      "  trm = _norm_pdf(a + b * np.log(x + np.sqrt(x2+1)))\n",
      "/home/rishi/mambaforge/envs/news-ordering/lib/python3.10/site-packages/scipy/stats/_distn_infrastructure.py:1867: RuntimeWarning: divide by zero encountered in log\n",
      "  return log(self._pdf(x, *args))\n"
     ]
    },
    {
     "name": "stdout",
     "output_type": "stream",
     "text": [
      "kappa4, kappa3, ksone, "
     ]
    },
    {
     "name": "stderr",
     "output_type": "stream",
     "text": [
      "/home/rishi/mambaforge/envs/news-ordering/lib/python3.10/site-packages/scipy/stats/_continuous_distns.py:106: RuntimeWarning: floating point number truncated to an integer\n",
      "  return -scu._smirnovp(n, x)\n"
     ]
    },
    {
     "name": "stdout",
     "output_type": "stream",
     "text": [
      "kstwobign, laplace, laplace_asymmetric, levy, levy_l, logistic, loggamma, lognorm, loguniform, lomax, maxwell, mielke, moyal, nakagami, ncx2, ncf, nct, "
     ]
    },
    {
     "name": "stderr",
     "output_type": "stream",
     "text": [
      "/home/rishi/mambaforge/envs/news-ordering/lib/python3.10/site-packages/scipy/stats/_continuous_distns.py:6432: RuntimeWarning: overflow encountered in exp\n",
      "  Px = np.exp(trm1)\n",
      "/home/rishi/mambaforge/envs/news-ordering/lib/python3.10/site-packages/scipy/stats/_continuous_distns.py:6438: RuntimeWarning: invalid value encountered in multiply\n",
      "  Px *= trm1+trm2\n",
      "/home/rishi/mambaforge/envs/news-ordering/lib/python3.10/site-packages/scipy/stats/_continuous_distns.py:6435: RuntimeWarning: overflow encountered in multiply\n",
      "  / np.asarray(fac1*sc.gamma((n+1)/2)))\n",
      "/home/rishi/mambaforge/envs/news-ordering/lib/python3.10/site-packages/scipy/stats/_continuous_distns.py:6437: RuntimeWarning: overflow encountered in multiply\n",
      "  / np.asarray(np.sqrt(fac1)*sc.gamma(n/2+1)))\n"
     ]
    },
    {
     "name": "stdout",
     "output_type": "stream",
     "text": [
      "norm, norminvgauss, pareto, pearson3, powerlaw, powerlognorm, powernorm, rdist, rayleigh, rice, recipinvgauss, semicircular, skewcauchy, skewnorm, t, trapezoid, triang, truncexpon, truncnorm, "
     ]
    },
    {
     "name": "stderr",
     "output_type": "stream",
     "text": [
      "/home/rishi/mambaforge/envs/news-ordering/lib/python3.10/site-packages/scipy/stats/_continuous_distns.py:7815: RuntimeWarning: divide by zero encountered in log1p\n",
      "  logdelta = sla + np.log1p(-np.exp(slb - sla))\n"
     ]
    },
    {
     "name": "stdout",
     "output_type": "stream",
     "text": [
      "vonmises_line, wald, weibull_min, weibull_max, wrapcauchy, "
     ]
    }
   ],
   "source": [
    "mles = []\n",
    "for dist in distributions:\n",
    "    print(dist.name, end=\", \")\n",
    "    params = dist.fit(wlist)\n",
    "    mle = dist.nnlf(params, wlist)\n",
    "    mles.append(mle)\n",
    "\n",
    "best_fits = sorted( [(dist.name, mle) for dist, mle in zip(distributions, mles)], key=lambda x: x[1] )"
   ]
  },
  {
   "cell_type": "code",
   "execution_count": 72,
   "id": "2be31560-a657-4990-a27e-c49586219a61",
   "metadata": {},
   "outputs": [
    {
     "name": "stdout",
     "output_type": "stream",
     "text": [
      "-- lower number is better --\n",
      "johnsonsb: -788.8224019332233\n",
      "weibull_max: -783.8499424631261\n",
      "arcsine: -554.1155896370966\n",
      "pearson3: -465.0150256302349\n",
      "gausshyper: -310.1328895994256\n",
      "genpareto: -289.513947229831\n",
      "johnsonsu: -249.39223132530424\n",
      "genextreme: -231.31606090366463\n",
      "...\n",
      "f: 82.22542527448853\n",
      "halfcauchy: 84.7685005886847\n",
      "ncf: 93.62235628892348\n",
      "levy: 124.5346489725158\n",
      "anglit: inf\n",
      "loguniform: inf\n",
      "rdist: inf\n",
      "truncnorm: inf\n"
     ]
    }
   ],
   "source": [
    "print(\"-- lower number is better --\")\n",
    "for name, fit in best_fits[:8]:\n",
    "    print(f\"{name}: {fit}\")\n",
    "print(\"...\")\n",
    "for name, fit in best_fits[-8:]:\n",
    "    print(f\"{name}: {fit}\")"
   ]
  },
  {
   "cell_type": "code",
   "execution_count": 73,
   "id": "caf1023f-38d8-4f4d-862e-db7df6544f1b",
   "metadata": {},
   "outputs": [],
   "source": [
    "func = st.beta"
   ]
  },
  {
   "cell_type": "code",
   "execution_count": 74,
   "id": "86da0a67-6c28-45e9-a6e1-8a0b18b61873",
   "metadata": {},
   "outputs": [],
   "source": [
    "params = func.fit(wlist)"
   ]
  },
  {
   "cell_type": "code",
   "execution_count": 80,
   "id": "21fe7cf5-f15a-42aa-9b33-59e88345e185",
   "metadata": {},
   "outputs": [
    {
     "data": {
      "image/png": "[encoded data removed]",
      "text/plain": [
       "<Figure size 432x288 with 1 Axes>"
      ]
     },
     "metadata": {
      "needs_background": "light"
     },
     "output_type": "display_data"
    }
   ],
   "source": [
    "fig, ax = plt.subplots()\n",
    "# fig.suptitle('CDF for real data and fitted distribution')\n",
    "\n",
    "domain = np.linspace(0, 1, num=50)\n",
    "ax.plot(domain, [func.cdf(x, *params) for x in domain], label='fitted distribution')\n",
    "\n",
    "ax.plot(counts_x, counts_y, 'o', label='real data')\n",
    "\n",
    "ax.set_xlabel(r'$x$')\n",
    "ax.set_ylabel(r'$\\Pr(X \\leq x)$')\n",
    "\n",
    "ax.legend()\n",
    "ax.grid(visible=True)\n",
    "\n",
    "plt.savefig(\"plots/distribution_fitting.pdf\")"
   ]
  },
  {
   "cell_type": "code",
   "execution_count": 76,
   "id": "3b71117c-de20-4d7d-b832-c73ed6a86455",
   "metadata": {},
   "outputs": [
    {
     "name": "stdout",
     "output_type": "stream",
     "text": [
      "The best non-pathological fit is the `beta` distribution with parameters (1.7187517116068227, 0.9004059519892909, -0.010075465525660627, 1.0100754655256607).\n"
     ]
    }
   ],
   "source": [
    "print(f\"The best non-pathological fit is the `{func.name}` distribution with parameters {params}.\")"
   ]
  },
  {
   "attachments": {},
   "cell_type": "markdown",
   "id": "8c49e627-3373-46e0-9fc5-a6d51abde33c",
   "metadata": {
    "tags": []
   },
   "source": [
    "#### random weight function for generating graphs"
   ]
  },
  {
   "cell_type": "code",
   "execution_count": 77,
   "id": "8d15dd69-fe41-418d-bf62-90f69e754778",
   "metadata": {},
   "outputs": [],
   "source": [
    "# 2022-02 DATASET\n",
    "# def random_weight():\n",
    "#     # parameters for distribution computed in `labels_to_graph.ipynb`\n",
    "#     sample = st.triang.rvs(0.9999995032790814, -0.38730256734947843, 1.3873032751477359)\n",
    "#     return min(1, max(0, sample))"
   ]
  },
  {
   "cell_type": "code",
   "execution_count": 81,
   "id": "b26a81a5-8d9b-4b80-b93c-639c5a3107ea",
   "metadata": {},
   "outputs": [],
   "source": [
    "# 2022-07 DATASET\n",
    "# def random_weight():\n",
    "#     # parameters for distribution computed in `labels_to_graph.ipynb`\n",
    "#     sample = st.beta.rvs(1.7187517116068227, 0.9004059519892909, -0.010075465525660627, 1.0100754655256607) # USA + Paolo\n",
    "#     sample = st.beta.rvs(2.136491095517801, 0.5465119579191644, -0.061758139675320074, 1.0617581396753204) # USA\n",
    "#     sample = st.beta.rvs(2.111725661571607, 0.6292620622053352, -0.25550988538252306, 1.2555098853825233) # EU\n",
    "#     sample = st.beta.rvs(2.6742109756662966, 0.6367712741345288, 0.06362872538929235, 0.9363712746107078) # all\n",
    "#     return min(1, max(0, sample))"
   ]
  },
  {
   "cell_type": "code",
   "execution_count": null,
   "id": "99804d82-adc6-429b-8c38-b7db67e83351",
   "metadata": {},
   "outputs": [],
   "source": []
  }
 ],
 "metadata": {
  "kernelspec": {
   "display_name": "Python [conda env:news-ordering]",
   "language": "python",
   "name": "conda-env-news-ordering-py"
  },
  "language_info": {
   "codemirror_mode": {
    "name": "ipython",
    "version": 3
   },
   "file_extension": ".py",
   "mimetype": "text/x-python",
   "name": "python",
   "nbconvert_exporter": "python",
   "pygments_lexer": "ipython3",
   "version": "3.10.2"
  }
 },
 "nbformat": 4,
 "nbformat_minor": 5
}
