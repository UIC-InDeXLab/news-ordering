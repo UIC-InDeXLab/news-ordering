{
 "cells": [
  {
   "cell_type": "code",
   "execution_count": 24,
   "id": "5906bf92-c10f-4e7b-b819-f678bc1c5351",
   "metadata": {},
   "outputs": [],
   "source": [
    "import os\n",
    "from collections import defaultdict as dd"
   ]
  },
  {
   "cell_type": "code",
   "execution_count": 25,
   "id": "00685b9b-b48d-4595-bef2-7b087286c03e",
   "metadata": {},
   "outputs": [],
   "source": [
    "mats = {\n",
    "    \"a\": dd(int),\n",
    "    \"c\": dd(int),\n",
    "    \"f\": dd(int)\n",
    "}"
   ]
  },
  {
   "cell_type": "code",
   "execution_count": 26,
   "id": "e6d44dd4-a4ae-4802-919f-bba96ae42431",
   "metadata": {},
   "outputs": [
    {
     "name": "stdout",
     "output_type": "stream",
     "text": [
      "reading set_2.txt...\n",
      "reading set_3.txt...\n",
      "reading set_4.txt...\n"
     ]
    }
   ],
   "source": [
    "with os.scandir(\"./data/labeled_sanitized/\") as directory:\n",
    "    for entry in directory:\n",
    "        if entry.is_file():\n",
    "            print(f\"reading {entry.name}...\")\n",
    "            with open(entry.path) as file:\n",
    "                for i, line in enumerate(file.readlines()):\n",
    "                    if i > 6:\n",
    "                        idx = i % 7\n",
    "                        if idx == 2:\n",
    "                            id_l = line[1:line.index(')')]\n",
    "                        elif idx == 3:\n",
    "                            id_r = line[1:line.index(')')]\n",
    "                        elif idx == 4:\n",
    "                            if line == 'Y\\n':\n",
    "                                label = 0\n",
    "                            elif line == 'N\\n':\n",
    "                                label = 1\n",
    "                            else:\n",
    "                                raise ValueError(f\"invalid label: '{line}'\")\n",
    "                            pair = (int(id_l[1:]), int(id_r[1:]))\n",
    "                            mats[id_l[0]][pair] += 1"
   ]
  },
  {
   "cell_type": "code",
   "execution_count": null,
   "id": "c80d3deb-dc4a-4ba2-951c-d99598ae6f32",
   "metadata": {},
   "outputs": [],
   "source": [
    "# TODO normalize all elements in the dictionaries to [0,1]"
   ]
  },
  {
   "cell_type": "code",
   "execution_count": null,
   "id": "1f7b62e4-26ec-4b1a-a64a-791eff50b7eb",
   "metadata": {},
   "outputs": [],
   "source": [
    "# with open(f\"./data/graphs/{TODO}.txt\", \"w\") as file:\n",
    "#     file.write(TODO)"
   ]
  },
  {
   "cell_type": "code",
   "execution_count": null,
   "id": "639eee44-0c7a-4bbf-b192-45536b00a7a9",
   "metadata": {},
   "outputs": [],
   "source": []
  }
 ],
 "metadata": {
  "kernelspec": {
   "display_name": "Python [conda env:news-ordering]",
   "language": "python",
   "name": "conda-env-news-ordering-py"
  },
  "language_info": {
   "codemirror_mode": {
    "name": "ipython",
    "version": 3
   },
   "file_extension": ".py",
   "mimetype": "text/x-python",
   "name": "python",
   "nbconvert_exporter": "python",
   "pygments_lexer": "ipython3",
   "version": "3.10.2"
  }
 },
 "nbformat": 4,
 "nbformat_minor": 5
}
