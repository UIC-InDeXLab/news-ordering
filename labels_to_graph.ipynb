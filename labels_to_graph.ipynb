{
 "cells": [
  {
   "cell_type": "code",
   "execution_count": 1,
   "id": "5906bf92-c10f-4e7b-b819-f678bc1c5351",
   "metadata": {},
   "outputs": [],
   "source": [
    "import os\n",
    "from collections import defaultdict as dd\n",
    "import numpy as np\n",
    "from scipy import stats as st\n",
    "from matplotlib import pyplot as plt"
   ]
  },
  {
   "cell_type": "markdown",
   "id": "f8aee60a-1ed7-485a-8cfb-4797ebf63c77",
   "metadata": {},
   "source": [
    "# read data"
   ]
  },
  {
   "cell_type": "code",
   "execution_count": 2,
   "id": "e6d44dd4-a4ae-4802-919f-bba96ae42431",
   "metadata": {},
   "outputs": [
    {
     "name": "stdout",
     "output_type": "stream",
     "text": [
      "reading set_1.txt...\n",
      "reading set_2.txt...\n",
      "reading set_3.txt...\n",
      "reading set_4.txt...\n",
      "reading set_5.txt...\n"
     ]
    }
   ],
   "source": [
    "mats = {\n",
    "    \"a\": dd(int),\n",
    "    \"c\": dd(int),\n",
    "    \"f\": dd(int)\n",
    "}\n",
    "\n",
    "with os.scandir(\"./data/labeled_sanitized/\") as directory:\n",
    "    for entry in directory:\n",
    "        if entry.is_file():\n",
    "            print(f\"reading {entry.name}...\")\n",
    "            with open(entry.path) as file:\n",
    "                for i, line in enumerate(file.readlines()):\n",
    "                    if i > 6:\n",
    "                        idx = i % 7\n",
    "                        if idx == 2:\n",
    "                            id_l = line[1:line.index(')')]\n",
    "                        elif idx == 3:\n",
    "                            id_r = line[1:line.index(')')]\n",
    "                        elif idx == 4:\n",
    "                            if line == 'Y\\n':\n",
    "                                label = 0\n",
    "                            elif line == 'N\\n':\n",
    "                                label = 1\n",
    "                            else:\n",
    "                                raise ValueError(f\"invalid label: '{line}'\")\n",
    "                            pair = (int(id_l[1:]), int(id_r[1:]))\n",
    "                            mats[id_l[0]][pair] += label\n",
    "\n",
    "for mat in mats.values():\n",
    "    for key in mat:\n",
    "        mat[key] /= 3"
   ]
  },
  {
   "cell_type": "markdown",
   "id": "4f764c9f-d056-42e0-a026-fd1e11c00e68",
   "metadata": {},
   "source": [
    "# generate graphs"
   ]
  },
  {
   "cell_type": "markdown",
   "id": "dbde9d6e-37ad-4fd2-a05c-59ed80e1e4d7",
   "metadata": {},
   "source": [
    "## real data"
   ]
  },
  {
   "cell_type": "code",
   "execution_count": 3,
   "id": "1f7b62e4-26ec-4b1a-a64a-791eff50b7eb",
   "metadata": {},
   "outputs": [],
   "source": [
    "for source in mats:\n",
    "    with open(f\"./data/graphs/{source}.txt\", \"w\") as file:\n",
    "        res = []\n",
    "        for (u,v), weight in mats[source].items():\n",
    "            res.append(f\"{u} {v} {weight}\")\n",
    "        file.write('\\n'.join(res))"
   ]
  },
  {
   "cell_type": "markdown",
   "id": "6c035fb7-77c4-4e6b-b07c-c1d021d8d600",
   "metadata": {},
   "source": [
    "## semi-synthetic data"
   ]
  },
  {
   "cell_type": "code",
   "execution_count": 135,
   "id": "87019f45-b0ad-4ac6-b28d-112440893a18",
   "metadata": {},
   "outputs": [],
   "source": [
    "wlist = []\n",
    "for mat in mats.values():\n",
    "    for val in mat.values():\n",
    "        wlist.append(val)"
   ]
  },
  {
   "cell_type": "code",
   "execution_count": 136,
   "id": "f41ec737-bc47-4a3c-84b1-5aaff7e56750",
   "metadata": {},
   "outputs": [],
   "source": [
    "# wlist = st.triang.rvs(0.2, size=1000)"
   ]
  },
  {
   "cell_type": "code",
   "execution_count": 137,
   "id": "2de8badc-dac5-48c5-ae80-dddc3cf4b094",
   "metadata": {},
   "outputs": [],
   "source": [
    "counts = dd(int)\n",
    "for w in wlist:\n",
    "    counts[w] += 1\n",
    "counts_x = sorted(counts.keys())\n",
    "counts_y = np.linspace(0, 1, num=len(counts))"
   ]
  },
  {
   "cell_type": "code",
   "execution_count": 138,
   "id": "b3c3b4cf-7157-4907-b435-0d57b474550c",
   "metadata": {},
   "outputs": [],
   "source": [
    "distributions = [\n",
    "    st.cosine, \n",
    "    st.trapezoid, \n",
    "    st.triang, \n",
    "    st.truncexpon\n",
    "]"
   ]
  },
  {
   "cell_type": "code",
   "execution_count": 139,
   "id": "639eee44-0c7a-4bbf-b192-45536b00a7a9",
   "metadata": {},
   "outputs": [],
   "source": [
    "mles = []\n",
    "for dist in distributions:\n",
    "    params = dist.fit(wlist)\n",
    "    mle = dist.nnlf(params, wlist)\n",
    "    mles.append(mle)\n",
    "\n",
    "best_fits = sorted( [(dist.name, mle) for dist, mle in zip(distributions, mles)], key=lambda x: x[1] )"
   ]
  },
  {
   "cell_type": "code",
   "execution_count": 140,
   "id": "2be31560-a657-4990-a27e-c49586219a61",
   "metadata": {},
   "outputs": [
    {
     "name": "stdout",
     "output_type": "stream",
     "text": [
      "[('triang', 0.7319353109763611), ('trapezoid', 31.772985148316437), ('truncexpon', 42.84184869253934), ('cosine', 57.68107915318433)]\n"
     ]
    }
   ],
   "source": [
    "print(best_fits)"
   ]
  },
  {
   "cell_type": "code",
   "execution_count": 141,
   "id": "caf1023f-38d8-4f4d-862e-db7df6544f1b",
   "metadata": {},
   "outputs": [],
   "source": [
    "func = st.triang"
   ]
  },
  {
   "cell_type": "code",
   "execution_count": 142,
   "id": "86da0a67-6c28-45e9-a6e1-8a0b18b61873",
   "metadata": {},
   "outputs": [],
   "source": [
    "params = func.fit(wlist)"
   ]
  },
  {
   "cell_type": "code",
   "execution_count": 144,
   "id": "21fe7cf5-f15a-42aa-9b33-59e88345e185",
   "metadata": {},
   "outputs": [
    {
     "data": {
      "text/plain": [
       "[<matplotlib.lines.Line2D at 0x7fbf312e6d10>]"
      ]
     },
     "execution_count": 144,
     "metadata": {},
     "output_type": "execute_result"
    },
    {
     "data": {
      "image/png": "[encoded data removed]",
      "text/plain": [
       "<Figure size 432x288 with 1 Axes>"
      ]
     },
     "metadata": {
      "needs_background": "light"
     },
     "output_type": "display_data"
    }
   ],
   "source": [
    "fig, ax = plt.subplots()\n",
    "domain = np.linspace(0, 1, num=50)\n",
    "ax.plot(domain, [func.cdf(x, *params) for x in domain])\n",
    "ax.plot(counts_x, counts_y, 'o')"
   ]
  },
  {
   "cell_type": "code",
   "execution_count": 145,
   "id": "3b71117c-de20-4d7d-b832-c73ed6a86455",
   "metadata": {},
   "outputs": [
    {
     "name": "stdout",
     "output_type": "stream",
     "text": [
      "The best non-pathological fit is the `triang` distribution with parameters (0.9999995032790814, -0.38730256734947843, 1.3873032751477359).\n"
     ]
    }
   ],
   "source": [
    "print(f\"The best non-pathological fit is the `{func.name}` distribution with parameters {params}.\")"
   ]
  },
  {
   "cell_type": "markdown",
   "id": "8c49e627-3373-46e0-9fc5-a6d51abde33c",
   "metadata": {
    "tags": []
   },
   "source": [
    "#### random weight function for generating graphs"
   ]
  },
  {
   "cell_type": "code",
   "execution_count": 161,
   "id": "8d15dd69-fe41-418d-bf62-90f69e754778",
   "metadata": {},
   "outputs": [],
   "source": [
    "def random_weight():\n",
    "    # parameters for distribution computed in `labels_to_graph.ipynb`\n",
    "    sample = st.triang.rvs(0.9999995032790814, -0.38730256734947843, 1.3873032751477359)\n",
    "    return min(1, max(0, sample))"
   ]
  }
 ],
 "metadata": {
  "kernelspec": {
   "display_name": "Python [conda env:news-ordering]",
   "language": "python",
   "name": "conda-env-news-ordering-py"
  },
  "language_info": {
   "codemirror_mode": {
    "name": "ipython",
    "version": 3
   },
   "file_extension": ".py",
   "mimetype": "text/x-python",
   "name": "python",
   "nbconvert_exporter": "python",
   "pygments_lexer": "ipython3",
   "version": "3.10.2"
  }
 },
 "nbformat": 4,
 "nbformat_minor": 5
}
