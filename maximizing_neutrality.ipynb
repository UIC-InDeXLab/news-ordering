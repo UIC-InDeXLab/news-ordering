{
 "cells": [
  {
   "cell_type": "markdown",
   "id": "f0fe081f-9c6b-48ca-a606-51a1aed5ca46",
   "metadata": {},
   "source": [
    "## Setup"
   ]
  },
  {
   "cell_type": "code",
   "execution_count": 1,
   "id": "fdc51667-0587-40e3-8569-a9c66110ef67",
   "metadata": {},
   "outputs": [],
   "source": [
    "import networkx as nx\n",
    "from networkx.algorithms import bipartite\n",
    "\n",
    "import itertools\n",
    "import math\n",
    "import statistics\n",
    "from scipy import stats as st\n",
    "\n",
    "from time import perf_counter\n",
    "# from tqdm.notebook import trange, tqdm\n",
    "from tqdm import trange, tqdm\n",
    "\n",
    "# import matplotlib as mpl\n",
    "import matplotlib.pyplot as plt"
   ]
  },
  {
   "cell_type": "markdown",
   "id": "5084976d-7ef7-48d3-88bb-4775e2285899",
   "metadata": {},
   "source": [
    "## Utility functions"
   ]
  },
  {
   "cell_type": "code",
   "execution_count": 2,
   "id": "cf675997-6604-4e62-8eed-283b8929f39d",
   "metadata": {
    "tags": []
   },
   "outputs": [],
   "source": [
    "def draw_edge_set(G, edges):\n",
    "    colors = []\n",
    "    for (u,v) in G.edges:\n",
    "        if (u,v) in edges or (v,u) in edges:\n",
    "            colors.append(\"red\")\n",
    "        else:\n",
    "            colors.append(\"black\")\n",
    "\n",
    "    nx.draw_networkx(G, edge_color=colors)"
   ]
  },
  {
   "cell_type": "code",
   "execution_count": 3,
   "id": "e4725e03-594a-4511-a887-5dd33b255902",
   "metadata": {},
   "outputs": [],
   "source": [
    "def contract(u, v, orientations):\n",
    "    if orientations == (0,0):\n",
    "        return tuple(reversed(u)) + v\n",
    "    elif orientations == (0,-1):\n",
    "        return tuple(reversed(u)) + tuple(reversed(v))\n",
    "    elif orientations == (-1,0):\n",
    "        return u + v\n",
    "    elif orientations == (-1,-1):\n",
    "        return u + tuple(reversed(v))\n",
    "    else:\n",
    "        raise ValueError(\"invalid orientations\")\n",
    "\n",
    "def orient(G, u, v):\n",
    "    oris_list = [(0,0), (0,-1), (-1,0), (-1,-1)]\n",
    "    u_ori, v_ori = max(oris_list, key = lambda oris: G.edges[u[oris[0]],v[oris[1]]]['weight'])\n",
    "    return (u_ori, v_ori), G.edges[u[u_ori],v[v_ori]]['weight']"
   ]
  },
  {
   "cell_type": "code",
   "execution_count": 4,
   "id": "eb8b3415-571a-470b-9159-7b8c024da71c",
   "metadata": {},
   "outputs": [],
   "source": [
    "def info(string, verbose):\n",
    "    if verbose:\n",
    "        print(f\"%%% {string} %%%\")"
   ]
  },
  {
   "cell_type": "code",
   "execution_count": 5,
   "id": "ea3dc7e5-ea40-46b2-823d-d92fa85e91cb",
   "metadata": {},
   "outputs": [],
   "source": [
    "avg = statistics.fmean\n",
    "\n",
    "def neutrality(G, path, agg):\n",
    "    Ns = []\n",
    "    for u,v in zip(path, path[1:]):\n",
    "        Ns.append(G.edges[u,v]['weight'])\n",
    "    return agg(Ns)"
   ]
  },
  {
   "cell_type": "code",
   "execution_count": 6,
   "id": "853f532f-967b-4d66-9489-77b14f3b09fa",
   "metadata": {},
   "outputs": [],
   "source": [
    "def random_weight():\n",
    "    # parameters for distribution computed in `labels_to_graph.ipynb`\n",
    "    sample = st.triang.rvs(0.9999995032790814, -0.38730256734947843, 1.3873032751477359)\n",
    "    return min(1, max(0, sample))"
   ]
  },
  {
   "cell_type": "markdown",
   "id": "cfc8bff9-d36a-481f-a3a8-f2fd879ccb9f",
   "metadata": {},
   "source": [
    "## Solvers"
   ]
  },
  {
   "cell_type": "code",
   "execution_count": 7,
   "id": "0765965c-1d31-4477-852c-a10e8549506e",
   "metadata": {},
   "outputs": [],
   "source": [
    "def _via_brute_force(G, n, verbose, agg):\n",
    "    path = tuple(range(n))\n",
    "    neut_max = 0\n",
    "    for p in itertools.permutations(range(n)):\n",
    "        neut = neutrality(G, p, agg)\n",
    "        if neut > neut_max:\n",
    "            path = p\n",
    "            neut_max = neut\n",
    "    return path"
   ]
  },
  {
   "cell_type": "code",
   "execution_count": 8,
   "id": "94853bd4-73ca-4cf1-a44e-0b6f5c357095",
   "metadata": {},
   "outputs": [],
   "source": [
    "def via_brute_force_avg_agg(G, n, verbose=False):\n",
    "    return _via_brute_force(G, n, verbose, avg)\n",
    "\n",
    "def via_brute_force_min_agg(G, n, verbose=False):\n",
    "    return _via_brute_force(G, n, verbose, min)"
   ]
  },
  {
   "cell_type": "markdown",
   "id": "560657cb-9e29-4601-bdcf-57b3da45238a",
   "metadata": {},
   "source": [
    "### avg aggregation"
   ]
  },
  {
   "cell_type": "code",
   "execution_count": 9,
   "id": "9c255b3e-99af-4560-934a-158bfe7933a0",
   "metadata": {},
   "outputs": [],
   "source": [
    "def via_matching(G, n, verbose=False):\n",
    "    matching = nx.max_weight_matching(G)\n",
    "\n",
    "    path = []\n",
    "    for u,v in matching:\n",
    "        path.append(u)\n",
    "        path.append(v)\n",
    "    if n % 2 == 1:\n",
    "        vertex_sum = n * (n-1) / 2\n",
    "        final_v = int(vertex_sum - sum(path))\n",
    "        path.append(final_v)\n",
    "    \n",
    "    return tuple(path)"
   ]
  },
  {
   "cell_type": "code",
   "execution_count": 10,
   "id": "c932e27c-15db-483e-853f-c08b66310610",
   "metadata": {},
   "outputs": [],
   "source": [
    "def via_iterated_matching(G, n, verbose=False):\n",
    "    Gk = nx.complete_graph([(i,) for i in range(n)])\n",
    "    for u in Gk.nodes:\n",
    "        Gk.nodes[u]['value'] = u[0]  # value is used to efficiently find final vertex when cardinality is odd\n",
    "    for u,v in Gk.edges:\n",
    "        Gk.edges[u,v]['orientations'] = (-1,0)\n",
    "        Gk.edges[u,v]['weight'] = G.edges[u[-1],v[0]]['weight']\n",
    "\n",
    "    num_nodes = n\n",
    "    while num_nodes > 1:\n",
    "        info(f\"num nodes: {num_nodes}\", verbose)\n",
    "        \n",
    "        Gk_old = Gk\n",
    "        Gk = nx.Graph()\n",
    "\n",
    "        matching = nx.max_weight_matching(Gk_old)\n",
    "\n",
    "        if num_nodes % 2 == 1:\n",
    "            value_sum = n * (n-1) / 2\n",
    "            for u,v in matching:\n",
    "                value_sum -= Gk_old.nodes[u]['value'] + Gk_old.nodes[v]['value']\n",
    "            final_value = int(value_sum)\n",
    "            for u in Gk_old.nodes:\n",
    "                if Gk_old.nodes[u]['value'] == final_value:\n",
    "                    fluke = False\n",
    "                    for x,y in matching:\n",
    "                        if u in (x,y):\n",
    "                            fluke = True\n",
    "                    if not fluke:\n",
    "                        Gk.add_node(u)\n",
    "                        Gk.nodes[u]['value'] = final_value\n",
    "\n",
    "        for u,v in matching:\n",
    "            node = contract(u, v, Gk_old.edges[u,v]['orientations'])\n",
    "            Gk.add_node(node)\n",
    "            Gk.nodes[node]['value'] = Gk_old.nodes[u]['value'] + Gk_old.nodes[v]['value']\n",
    "\n",
    "        for u in Gk.nodes:\n",
    "            for v in Gk.nodes:\n",
    "                if u != v:\n",
    "                    oris, w = orient(G, u, v)\n",
    "                    Gk.add_edge(u, v, orientations=oris, weight=w)\n",
    "\n",
    "        num_nodes = len(Gk.nodes)\n",
    "\n",
    "    for u in Gk.nodes:\n",
    "        assert Gk.nodes[u]['value'] == n * (n-1) / 2\n",
    "\n",
    "    return next(iter(Gk.nodes))"
   ]
  },
  {
   "cell_type": "markdown",
   "id": "78df624d-9cb4-4882-96d3-b499ce7eb5b6",
   "metadata": {},
   "source": [
    "WARNING: NetworkX uses an assignment problem solver other than the Hungarian method"
   ]
  },
  {
   "cell_type": "code",
   "execution_count": 11,
   "id": "ef6a0a7b-7b16-475f-9b41-297892a96fc0",
   "metadata": {
    "tags": []
   },
   "outputs": [],
   "source": [
    "def via_cycle_cover(G, n, verbose=False):\n",
    "    Gb = nx.Graph()\n",
    "    for i in range(2*n):\n",
    "        Gb.add_node(i)\n",
    "    for u,v in G.edges:\n",
    "        Gb.add_edge(u, v+n, weight=1-G.edges[u,v]['weight'])  # account for min weight NetworkX method\n",
    "        Gb.add_edge(v, u+n, weight=1-G.edges[u,v]['weight'])  # account for min weight NetworkX method\n",
    "\n",
    "    mb_dict = bipartite.minimum_weight_full_matching(Gb, top_nodes=list(Gb.nodes)[:n])\n",
    "    # draw_edge_set(Gb, list(mb_dict.items()))\n",
    "\n",
    "    m_dict = {}\n",
    "    for u,v in mb_dict.items():\n",
    "        if u < n:\n",
    "            x,y = u,v\n",
    "        else:\n",
    "            x,y = v,u\n",
    "        m_dict[x] = y-n\n",
    "    # draw_edge_set(G, list(m_dict.items()))\n",
    "\n",
    "\n",
    "    cycle_cover = []\n",
    "\n",
    "    done = set()\n",
    "    cycle = []\n",
    "    start = curr = 0\n",
    "\n",
    "    while True:\n",
    "        cycle.append(curr)\n",
    "        done.add(curr)\n",
    "        curr = m_dict[curr]\n",
    "        if curr == start:\n",
    "            cycle_cover.append(cycle)\n",
    "            cycle = []\n",
    "            flag = False\n",
    "            for i in range(n):\n",
    "                if i not in done:\n",
    "                    start = curr = i\n",
    "                    flag = True\n",
    "                    break\n",
    "            if not flag:\n",
    "                break\n",
    "\n",
    "    path_cover = []\n",
    "    for cycle in cycle_cover:\n",
    "        best_start = cycle[0]\n",
    "        best_start_idx = 0\n",
    "        min_weight = G.edges[cycle[-1],cycle[0]]['weight']\n",
    "        for i, (u,v) in enumerate(zip(cycle, cycle[1:])):\n",
    "            if G.edges[u,v]['weight'] < min_weight:\n",
    "                best_start = v\n",
    "                best_start_idx = i+1\n",
    "                min_weight = G.edges[u,v]['weight']\n",
    "        path = cycle[best_start_idx:] + cycle[:best_start_idx]\n",
    "        path_cover.append(path)\n",
    "\n",
    "    return tuple(itertools.chain(*path_cover))"
   ]
  },
  {
   "cell_type": "code",
   "execution_count": 12,
   "id": "87134501-4f30-4044-81b3-49a2df4e0d07",
   "metadata": {},
   "outputs": [],
   "source": [
    "def via_iterated_cycle_cover(G, n, verbose=False):\n",
    "    Gk = nx.complete_graph([(i,) for i in range(n)])\n",
    "    num_nodes = n  \n",
    "    \n",
    "    while num_nodes > 1:\n",
    "        info(f\"num nodes: {num_nodes}\", verbose)\n",
    "        \n",
    "        Gb = nx.Graph()\n",
    "        for u in Gk.nodes:\n",
    "            Gb.add_node(u)\n",
    "            Gb.add_node(tuple([i + n for i in u]))\n",
    "        for u,v in Gk.edges:\n",
    "            Gb.add_edge(u, tuple([i + n for i in v]), weight=1-G.edges[u[-1],v[0]]['weight'])  # account for min weight NetworkX method\n",
    "            Gb.add_edge(v, tuple([i + n for i in u]), weight=1-G.edges[u[-1],v[0]]['weight'])  # account for min weight NetworkX method\n",
    "        \n",
    "        mb_dict = bipartite.minimum_weight_full_matching(Gb, top_nodes=list(Gb.nodes)[::2])\n",
    "        # draw_edge_set(Gb, list(mb_dict.items()))\n",
    "\n",
    "        m_dict = {}\n",
    "        for u,v in mb_dict.items():\n",
    "            if u[0] < n:\n",
    "                x,y = u,v\n",
    "            else:\n",
    "                x,y = v,u\n",
    "            m_dict[x] = tuple([i - n for i in y])\n",
    "        # draw_edge_set(G, list(m_dict.items()))\n",
    "\n",
    "\n",
    "        cycle_cover = []\n",
    "\n",
    "        done = set()\n",
    "        cycle = []\n",
    "        start = curr = next(iter(m_dict))  # start with arbitrary node\n",
    "\n",
    "        while True:\n",
    "            cycle.append(curr)\n",
    "            done.add(curr)\n",
    "            curr = m_dict[curr]\n",
    "            if curr == start:\n",
    "                cycle_cover.append(cycle)\n",
    "                cycle = []\n",
    "                flag = False\n",
    "                for i in m_dict:\n",
    "                    if i not in done:\n",
    "                        start = curr = i\n",
    "                        flag = True\n",
    "                        break\n",
    "                if not flag:\n",
    "                    break\n",
    "\n",
    "        path_cover = []\n",
    "        for cycle in cycle_cover:\n",
    "            best_start = cycle[0]\n",
    "            best_start_idx = 0\n",
    "            min_weight = G.edges[cycle[-1][-1],cycle[0][0]]['weight']\n",
    "            for i, (u,v) in enumerate(zip(cycle, cycle[1:])):\n",
    "                if G.edges[u[-1],v[0]]['weight'] < min_weight:\n",
    "                    best_start = v\n",
    "                    best_start_idx = i+1\n",
    "                    min_weight = G.edges[u[-1],v[0]]['weight']\n",
    "            path = cycle[best_start_idx:] + cycle[:best_start_idx]\n",
    "            \n",
    "            path_flattened = list(path[0])\n",
    "            for p in path[1:]:\n",
    "                if G.edges[path_flattened[-1],p[0]]['weight'] > G.edges[path_flattened[-1],p[-1]]['weight']:\n",
    "                    path_flattened.extend(p)\n",
    "                else:\n",
    "                    path_flattened.extend(tuple(reversed(p)))\n",
    "            path_cover.append(tuple(path_flattened))\n",
    "        \n",
    "\n",
    "        Gk = nx.Graph()\n",
    "        for u in path_cover:\n",
    "            Gk.add_node(u)\n",
    "        for u in Gk.nodes:\n",
    "            for v in Gk.nodes:\n",
    "                if u != v:\n",
    "                    Gk.add_edge(u,v)\n",
    "        num_nodes = len(Gk.nodes)\n",
    "\n",
    "    return next(iter(Gk.nodes))"
   ]
  },
  {
   "cell_type": "markdown",
   "id": "fb618d01-29b2-40fd-b471-3e09b4e9b783",
   "metadata": {},
   "source": [
    "### min aggregation"
   ]
  },
  {
   "cell_type": "code",
   "execution_count": 13,
   "id": "c079a0ee-e308-474f-80bd-7ee0e2f3144e",
   "metadata": {},
   "outputs": [],
   "source": [
    "def get_cycle_weight(G, cycle):\n",
    "    w_sum = G.edges[cycle[-1],cycle[0]]['weight']\n",
    "    for u,v in zip(cycle, cycle[1:]):\n",
    "        w_sum += G.edges[u,v]['weight']\n",
    "    return w_sum"
   ]
  },
  {
   "cell_type": "code",
   "execution_count": 42,
   "id": "fcba3419-83b0-4159-a1d6-61deaa44b28e",
   "metadata": {},
   "outputs": [],
   "source": [
    "def _swap(cycle, i, j):\n",
    "    return cycle[:i] + list(reversed(cycle[i:j+1])) + cycle[j+1:]\n",
    "\n",
    "def two_opt(G, n):\n",
    "    cycle = list(G.nodes)\n",
    "    distance = get_cycle_weight(G, cycle)\n",
    "\n",
    "    converged = False\n",
    "    steps = 0\n",
    "    while not converged:\n",
    "        steps += 1\n",
    "        converged = True\n",
    "        for i in range(n):\n",
    "            for j in range(i+1, n):\n",
    "                new_cycle = _swap(cycle, i, j)\n",
    "                new_distance = get_cycle_weight(G, new_cycle)\n",
    "                if (new_distance < distance):\n",
    "                    cycle = new_cycle\n",
    "                    distance = new_distance\n",
    "                    converged = False\n",
    "\n",
    "    return cycle, steps\n",
    "\n",
    "\n",
    "def is_feasible(G, n, delta):\n",
    "    Gd = nx.complete_graph(n)\n",
    "    for (u,v) in Gd.edges:\n",
    "        Gd.edges[u,v]['weight'] = max(delta - G.edges[u,v]['weight'], 0)\n",
    "\n",
    "    cycle, steps = two_opt(Gd, n)\n",
    "    \n",
    "    if math.isclose(0, get_cycle_weight(Gd, cycle), abs_tol=0.005):\n",
    "        return cycle, steps, True\n",
    "    else:\n",
    "        return cycle, steps, False\n",
    "\n",
    "\n",
    "def binary_search(G, n, weight_list):\n",
    "    r = len(weight_list) - 1\n",
    "    m = math.ceil(r / 2)\n",
    "    cycle, steps, feasible = is_feasible(G, n, weight_list[m])\n",
    "\n",
    "    if r == 0:\n",
    "        res = (cycle, [])\n",
    "    elif feasible:\n",
    "        res = binary_search(G, n, weight_list[m:])\n",
    "    else:\n",
    "        res = binary_search(G, n, weight_list[:m])\n",
    "    \n",
    "    return res[0], [steps] + res[1]\n",
    "\n",
    "\n",
    "def min_agg(G, n, verbose=False):\n",
    "    weight_set = set()\n",
    "    for (u,v) in G.edges:\n",
    "        weight_set.add(G.edges[u,v]['weight'])\n",
    "    weight_list = sorted(weight_set)\n",
    "    \n",
    "    cycle, convergence_iterations = binary_search(G, n, weight_list)\n",
    "    info(f\"average iterations till convergence: {statistics.fmean(convergence_iterations)}\", verbose)\n",
    "    \n",
    "    # cycle to path\n",
    "    best_start = cycle[0]\n",
    "    best_start_idx = 0\n",
    "    min_weight = G.edges[cycle[-1],cycle[0]]['weight']\n",
    "    for i, (u,v) in enumerate(zip(cycle, cycle[1:])):\n",
    "        if G.edges[u,v]['weight'] < min_weight:\n",
    "            best_start = v\n",
    "            best_start_idx = i+1\n",
    "            min_weight = G.edges[u,v]['weight']\n",
    "    path = cycle[best_start_idx:] + cycle[:best_start_idx]\n",
    "    \n",
    "    return path"
   ]
  },
  {
   "cell_type": "markdown",
   "id": "7dd654eb-f845-4c96-9e9c-c53d606c6563",
   "metadata": {
    "tags": []
   },
   "source": [
    "## Experiments"
   ]
  },
  {
   "cell_type": "code",
   "execution_count": 15,
   "id": "8dd1b241-ef77-46eb-8d45-af3ba8e43cbc",
   "metadata": {},
   "outputs": [],
   "source": [
    "iterations = 4\n",
    "timeit_iterations = 3  # 5 is the standard in the timeit module"
   ]
  },
  {
   "cell_type": "markdown",
   "id": "ebabdef0-64fd-4891-8eef-4ba56f84dc73",
   "metadata": {
    "tags": []
   },
   "source": [
    "### avg aggregation"
   ]
  },
  {
   "cell_type": "code",
   "execution_count": 16,
   "id": "79b729d2-e982-4256-a93a-a966d28bf3d4",
   "metadata": {
    "tags": []
   },
   "outputs": [],
   "source": [
    "solvers = [\n",
    "    via_matching, \n",
    "    via_iterated_matching, \n",
    "    via_cycle_cover, \n",
    "    via_iterated_cycle_cover, \n",
    "    via_brute_force_avg_agg\n",
    "]\n",
    "\n",
    "solver_names = [func.__name__[4:].replace('_', ' ') for func in solvers]\n",
    "solver_names[4] = \"brute force\""
   ]
  },
  {
   "cell_type": "code",
   "execution_count": 41,
   "id": "f59c251a-8e5c-4749-98a4-cc104f710099",
   "metadata": {
    "tags": []
   },
   "outputs": [
    {
     "name": "stdout",
     "output_type": "stream",
     "text": [
      "solver: matching\n",
      "Neut_avg: 0.6767043355137435\n",
      "time (s): 0.005800700004328974\n",
      "\n",
      "solver: iterated matching\n",
      "%%% num nodes: 9 %%%\n",
      "%%% num nodes: 5 %%%\n",
      "%%% num nodes: 3 %%%\n",
      "%%% num nodes: 2 %%%\n",
      "Neut_avg: 0.7842670057763856\n",
      "time (s): 0.01011859999562148\n",
      "\n",
      "solver: cycle cover\n",
      "Neut_avg: 0.6785287839561903\n",
      "time (s): 0.0030420000111917034\n",
      "\n",
      "solver: iterated cycle cover\n",
      "%%% num nodes: 9 %%%\n",
      "%%% num nodes: 4 %%%\n",
      "%%% num nodes: 2 %%%\n",
      "Neut_avg: 0.834514487789185\n",
      "time (s): 0.005600499993306585\n",
      "\n",
      "solver: brute force\n",
      "Neut_avg: 0.8660021894335531\n",
      "time (s): 6.324648299996625\n",
      "\n"
     ]
    }
   ],
   "source": [
    "n = 9\n",
    "G = nx.complete_graph(n)\n",
    "for (u,v) in G.edges:\n",
    "    G.edges[u,v]['weight'] = random_weight()\n",
    "\n",
    "for func, name in zip(solvers, solver_names):\n",
    "    print(f\"solver: {name}\")\n",
    "    start = perf_counter()\n",
    "    p = func(G, n, verbose=True)\n",
    "    t = perf_counter() - start\n",
    "    neut = neutrality(G, p, avg)\n",
    "    print(f\"Neut_avg: {neut}\\ntime (s): {t}\\n\")"
   ]
  },
  {
   "cell_type": "code",
   "execution_count": 18,
   "id": "acced56c-0131-4388-8861-9dc9d7cd2d96",
   "metadata": {
    "tags": []
   },
   "outputs": [],
   "source": [
    "n_domain = [6, 7, 8, 9, 15, 20, 30, 40, 50, 70, 100, 120, 150, 180]"
   ]
  },
  {
   "cell_type": "code",
   "execution_count": 19,
   "id": "6388f4ec-8d5d-451d-a371-d98b7a06d8bb",
   "metadata": {
    "tags": []
   },
   "outputs": [
    {
     "name": "stderr",
     "output_type": "stream",
     "text": [
      "100%|████████████████████████████████████████████████████| 14/14 [12:36<00:00, 54.07s/it]\n"
     ]
    }
   ],
   "source": [
    "# iterate over different values of n\n",
    "neuts = []\n",
    "times = []\n",
    "for n in tqdm(n_domain):\n",
    "    Gs = []\n",
    "    for i in range(iterations):\n",
    "        Gs.append(nx.complete_graph(n))\n",
    "        for (u,v) in Gs[i].edges:\n",
    "            Gs[i].edges[u,v]['weight'] = random_weight()\n",
    "    \n",
    "    # iterate over the different solvers\n",
    "    inner_neuts = []\n",
    "    inner_times = []\n",
    "    for func in solvers:\n",
    "        if n > 10 and func == via_brute_force_avg_agg:\n",
    "            inner_neuts.append(None)\n",
    "            inner_times.append(None)\n",
    "            continue\n",
    "        \n",
    "        # iterate over the different random graphs\n",
    "        inner_inner_neuts = []\n",
    "        inner_inner_times = []\n",
    "        for i in range(iterations):\n",
    "            # take the best of `timeit_iterations` times to account for external performance factors\n",
    "            time_min = math.inf\n",
    "            for j in range(timeit_iterations):\n",
    "                start = perf_counter()\n",
    "                p = func(Gs[i], n)\n",
    "                t = perf_counter() - start\n",
    "                time_min = min(time_min, t)\n",
    "            inner_inner_neuts.append(neutrality(Gs[i], p, avg))\n",
    "            inner_inner_times.append(time_min)\n",
    "        inner_neuts.append(avg(inner_inner_neuts))\n",
    "        inner_times.append(avg(inner_inner_times))\n",
    "    neuts.append(inner_neuts)\n",
    "    times.append(inner_times)"
   ]
  },
  {
   "cell_type": "code",
   "execution_count": 51,
   "id": "02e1f37f-28ff-49de-92f3-8cfaccfe8a5b",
   "metadata": {
    "tags": []
   },
   "outputs": [
    {
     "data": {
      "image/png": "[encoded data removed]",
      "text/plain": [
       "<Figure size 720x288 with 2 Axes>"
      ]
     },
     "metadata": {
      "needs_background": "light"
     },
     "output_type": "display_data"
    }
   ],
   "source": [
    "fig, axes = plt.subplots(1, 2, figsize=(10,4))\n",
    "fig.suptitle('PathMaxTSP solver performances')\n",
    "\n",
    "axes[0].plot(n_domain, neuts, label=solver_names)\n",
    "axes[0].plot(n_domain, [1 for _ in n_domain], label='upper bound', color='black', linestyle=':')\n",
    "axes[0].set_xlabel('n')\n",
    "axes[0].set_ylabel(r'average $\\operatorname{Neut}_{\\operatorname{avg}}$')\n",
    "axes[0].set_ybound(-0.1, 1.1)\n",
    "\n",
    "# axes[0].set_xscale('log')\n",
    "\n",
    "axes[1].plot(n_domain, times)\n",
    "axes[1].set_xlabel('n')\n",
    "axes[1].set_ylabel('average time (s)')\n",
    "\n",
    "# axes[1].set_xscale('log')\n",
    "# axes[1].set_yscale('log')\n",
    "\n",
    "fig.legend()\n",
    "\n",
    "plt.savefig(\"plots/avg_agg_plots.png\")"
   ]
  },
  {
   "cell_type": "markdown",
   "id": "20ee9d85-8db7-44f2-8afc-6de59010d7f5",
   "metadata": {},
   "source": [
    "### min aggregation"
   ]
  },
  {
   "cell_type": "code",
   "execution_count": 43,
   "id": "37b0f9ef-69cc-4790-9c6c-f43dcae0ae4b",
   "metadata": {},
   "outputs": [],
   "source": [
    "solvers_ma = [\n",
    "    min_agg, \n",
    "    via_brute_force_min_agg\n",
    "]\n",
    "\n",
    "solver_names_ma = [\n",
    "    \"heuristic method\", \n",
    "    \"brute force\"\n",
    "]"
   ]
  },
  {
   "cell_type": "code",
   "execution_count": 44,
   "id": "24f81f9a-f258-4e1f-b2de-3949cc00a7df",
   "metadata": {},
   "outputs": [
    {
     "name": "stdout",
     "output_type": "stream",
     "text": [
      "solver: heuristic method\n",
      "%%% average iterations till convergence: 2.1666666666666665 %%%\n",
      "Neut_min: 0.5432814709173541\n",
      "time (s): 0.020097100001294166\n",
      "\n",
      "solver: brute force\n",
      "Neut_min: 0.69039473053878\n",
      "time (s): 5.354282300002524\n",
      "\n"
     ]
    }
   ],
   "source": [
    "n = 9\n",
    "G = nx.complete_graph(n)\n",
    "for (u,v) in G.edges:\n",
    "    G.edges[u,v]['weight'] = random_weight()\n",
    "\n",
    "for func, name in zip(solvers_ma, solver_names_ma):\n",
    "    print(f\"solver: {name}\")\n",
    "    start = perf_counter()\n",
    "    p = func(G, n, verbose=True)\n",
    "    t = perf_counter() - start\n",
    "    neut = neutrality(G, p, min)\n",
    "    print(f\"Neut_min: {neut}\\ntime (s): {t}\\n\")"
   ]
  },
  {
   "cell_type": "code",
   "execution_count": 45,
   "id": "f81d2353-afd8-4f25-bf81-54a4e1f694cf",
   "metadata": {},
   "outputs": [],
   "source": [
    "n_domain_ma = [6, 7, 8, 9, 15, 20, 30, 40, 50, 70]"
   ]
  },
  {
   "cell_type": "code",
   "execution_count": 46,
   "id": "4ac3f978-23c9-4e3d-b905-4905a8396968",
   "metadata": {},
   "outputs": [
    {
     "name": "stderr",
     "output_type": "stream",
     "text": [
      "100%|████████████████████████████████████████████████████| 10/10 [06:11<00:00, 37.12s/it]\n"
     ]
    }
   ],
   "source": [
    "# iterate over different values of n\n",
    "neuts_ma = []\n",
    "times_ma = []\n",
    "for n in tqdm(n_domain_ma):\n",
    "    Gs = []\n",
    "    for i in range(iterations):\n",
    "        Gs.append(nx.complete_graph(n))\n",
    "        for (u,v) in Gs[i].edges:\n",
    "            Gs[i].edges[u,v]['weight'] = random_weight()\n",
    "    \n",
    "    # iterate over the different solvers\n",
    "    inner_neuts = []\n",
    "    inner_times = []\n",
    "    for func in solvers_ma:\n",
    "        if n > 10 and func == via_brute_force_min_agg:\n",
    "            inner_neuts.append(None)\n",
    "            inner_times.append(None)\n",
    "            continue\n",
    "        \n",
    "        # iterate over the different random graphs\n",
    "        inner_inner_neuts = []\n",
    "        inner_inner_times = []\n",
    "        for i in range(iterations):\n",
    "            # take the best of `timeit_iterations` times to account for external performance factors\n",
    "            time_min = math.inf\n",
    "            for j in range(timeit_iterations):\n",
    "                start = perf_counter()\n",
    "                p = func(Gs[i], n)\n",
    "                t = perf_counter() - start\n",
    "                time_min = min(time_min, t)\n",
    "            inner_inner_neuts.append(neutrality(Gs[i], p, min))\n",
    "            inner_inner_times.append(time_min)\n",
    "        inner_neuts.append(avg(inner_inner_neuts))\n",
    "        inner_times.append(avg(inner_inner_times))\n",
    "    neuts_ma.append(inner_neuts)\n",
    "    times_ma.append(inner_times)"
   ]
  },
  {
   "cell_type": "code",
   "execution_count": 50,
   "id": "b66824a5-e924-47b5-a7db-bd576eee7a95",
   "metadata": {},
   "outputs": [
    {
     "data": {
      "image/png": "[encoded data removed]",
      "text/plain": [
       "<Figure size 720x288 with 2 Axes>"
      ]
     },
     "metadata": {
      "needs_background": "light"
     },
     "output_type": "display_data"
    }
   ],
   "source": [
    "fig, axes = plt.subplots(1, 2, figsize=(10,4))\n",
    "fig.suptitle('PathMaxScatterTSP solver performances')\n",
    "\n",
    "axes[0].plot(n_domain_ma, neuts_ma, label=solver_names_ma)\n",
    "axes[0].plot(n_domain_ma, [1 for _ in n_domain_ma], label='upper bound', color='black', linestyle=':')\n",
    "axes[0].set_xlabel('n')\n",
    "axes[0].set_ylabel(r'average $\\operatorname{Neut}_{\\min}$')\n",
    "axes[0].set_ybound(-0.1, 1.1)\n",
    "\n",
    "# axes[0].set_xscale('log')\n",
    "\n",
    "axes[1].plot(n_domain_ma, times_ma)\n",
    "axes[1].set_xlabel('n')\n",
    "axes[1].set_ylabel('average time (s)')\n",
    "\n",
    "# axes[1].set_xscale('log')\n",
    "# axes[1].set_yscale('log')\n",
    "\n",
    "fig.legend()\n",
    "\n",
    "plt.savefig(\"plots/min_agg_plots.png\")"
   ]
  },
  {
   "cell_type": "code",
   "execution_count": null,
   "id": "e4ce7094-d1ae-403a-adfb-cd4a9509bf51",
   "metadata": {},
   "outputs": [],
   "source": []
  }
 ],
 "metadata": {
  "kernelspec": {
   "display_name": "Python [conda env:news-ordering]",
   "language": "python",
   "name": "conda-env-news-ordering-py"
  },
  "language_info": {
   "codemirror_mode": {
    "name": "ipython",
    "version": 3
   },
   "file_extension": ".py",
   "mimetype": "text/x-python",
   "name": "python",
   "nbconvert_exporter": "python",
   "pygments_lexer": "ipython3",
   "version": "3.10.2"
  }
 },
 "nbformat": 4,
 "nbformat_minor": 5
}
